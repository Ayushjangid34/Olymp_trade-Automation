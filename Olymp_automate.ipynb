{
 "cells": [
  {
   "cell_type": "code",
   "execution_count": 1,
   "metadata": {},
   "outputs": [
    {
     "ename": "SessionNotCreatedException",
     "evalue": "Message: session not created: This version of ChromeDriver only supports Chrome version 112\nCurrent browser version is 114.0.5735.133 with binary path /usr/bin/google-chrome\nStacktrace:\n#0 0x558438e11fe3 <unknown>\n#1 0x558438b50d36 <unknown>\n#2 0x558438b7e48c <unknown>\n#3 0x558438b791f3 <unknown>\n#4 0x558438b75a9b <unknown>\n#5 0x558438bb7af7 <unknown>\n#6 0x558438bb711f <unknown>\n#7 0x558438bae693 <unknown>\n#8 0x558438b8103a <unknown>\n#9 0x558438b8217e <unknown>\n#10 0x558438dd3dbd <unknown>\n#11 0x558438dd7c6c <unknown>\n#12 0x558438de14b0 <unknown>\n#13 0x558438dd8d63 <unknown>\n#14 0x558438dabc35 <unknown>\n#15 0x558438dfc138 <unknown>\n#16 0x558438dfc2c7 <unknown>\n#17 0x558438e0a093 <unknown>\n#18 0x7fb815890402 <unknown>\n",
     "output_type": "error",
     "traceback": [
      "\u001b[0;31m---------------------------------------------------------------------------\u001b[0m",
      "\u001b[0;31mSessionNotCreatedException\u001b[0m                Traceback (most recent call last)",
      "Cell \u001b[0;32mIn[1], line 11\u001b[0m\n\u001b[1;32m      9\u001b[0m options \u001b[39m=\u001b[39m webdriver\u001b[39m.\u001b[39mChromeOptions()\n\u001b[1;32m     10\u001b[0m options\u001b[39m.\u001b[39madd_experimental_option(\u001b[39m\"\u001b[39m\u001b[39mdetach\u001b[39m\u001b[39m\"\u001b[39m,\u001b[39mTrue\u001b[39;00m)\n\u001b[0;32m---> 11\u001b[0m driver \u001b[39m=\u001b[39m webdriver\u001b[39m.\u001b[39;49mChrome(options\u001b[39m=\u001b[39;49moptions)\n\u001b[1;32m     12\u001b[0m driver\u001b[39m.\u001b[39mget(\u001b[39m\"\u001b[39m\u001b[39mhttps://olymptrade.com/\u001b[39m\u001b[39m\"\u001b[39m)\n\u001b[1;32m     14\u001b[0m driver\u001b[39m.\u001b[39mmaximize_window()\n",
      "File \u001b[0;32m~/anaconda3/lib/python3.10/site-packages/selenium/webdriver/chrome/webdriver.py:80\u001b[0m, in \u001b[0;36mWebDriver.__init__\u001b[0;34m(self, executable_path, port, options, service_args, desired_capabilities, service_log_path, chrome_options, service, keep_alive)\u001b[0m\n\u001b[1;32m     77\u001b[0m \u001b[39mif\u001b[39;00m \u001b[39mnot\u001b[39;00m service:\n\u001b[1;32m     78\u001b[0m     service \u001b[39m=\u001b[39m Service(executable_path, port, service_args, service_log_path)\n\u001b[0;32m---> 80\u001b[0m \u001b[39msuper\u001b[39;49m()\u001b[39m.\u001b[39;49m\u001b[39m__init__\u001b[39;49m(\n\u001b[1;32m     81\u001b[0m     DesiredCapabilities\u001b[39m.\u001b[39;49mCHROME[\u001b[39m\"\u001b[39;49m\u001b[39mbrowserName\u001b[39;49m\u001b[39m\"\u001b[39;49m],\n\u001b[1;32m     82\u001b[0m     \u001b[39m\"\u001b[39;49m\u001b[39mgoog\u001b[39;49m\u001b[39m\"\u001b[39;49m,\n\u001b[1;32m     83\u001b[0m     port,\n\u001b[1;32m     84\u001b[0m     options,\n\u001b[1;32m     85\u001b[0m     service_args,\n\u001b[1;32m     86\u001b[0m     desired_capabilities,\n\u001b[1;32m     87\u001b[0m     service_log_path,\n\u001b[1;32m     88\u001b[0m     service,\n\u001b[1;32m     89\u001b[0m     keep_alive,\n\u001b[1;32m     90\u001b[0m )\n",
      "File \u001b[0;32m~/anaconda3/lib/python3.10/site-packages/selenium/webdriver/chromium/webdriver.py:104\u001b[0m, in \u001b[0;36mChromiumDriver.__init__\u001b[0;34m(self, browser_name, vendor_prefix, port, options, service_args, desired_capabilities, service_log_path, service, keep_alive)\u001b[0m\n\u001b[1;32m    101\u001b[0m \u001b[39mself\u001b[39m\u001b[39m.\u001b[39mservice\u001b[39m.\u001b[39mstart()\n\u001b[1;32m    103\u001b[0m \u001b[39mtry\u001b[39;00m:\n\u001b[0;32m--> 104\u001b[0m     \u001b[39msuper\u001b[39;49m()\u001b[39m.\u001b[39;49m\u001b[39m__init__\u001b[39;49m(\n\u001b[1;32m    105\u001b[0m         command_executor\u001b[39m=\u001b[39;49mChromiumRemoteConnection(\n\u001b[1;32m    106\u001b[0m             remote_server_addr\u001b[39m=\u001b[39;49m\u001b[39mself\u001b[39;49m\u001b[39m.\u001b[39;49mservice\u001b[39m.\u001b[39;49mservice_url,\n\u001b[1;32m    107\u001b[0m             browser_name\u001b[39m=\u001b[39;49mbrowser_name,\n\u001b[1;32m    108\u001b[0m             vendor_prefix\u001b[39m=\u001b[39;49mvendor_prefix,\n\u001b[1;32m    109\u001b[0m             keep_alive\u001b[39m=\u001b[39;49mkeep_alive,\n\u001b[1;32m    110\u001b[0m             ignore_proxy\u001b[39m=\u001b[39;49m_ignore_proxy,\n\u001b[1;32m    111\u001b[0m         ),\n\u001b[1;32m    112\u001b[0m         options\u001b[39m=\u001b[39;49moptions,\n\u001b[1;32m    113\u001b[0m     )\n\u001b[1;32m    114\u001b[0m \u001b[39mexcept\u001b[39;00m \u001b[39mException\u001b[39;00m:\n\u001b[1;32m    115\u001b[0m     \u001b[39mself\u001b[39m\u001b[39m.\u001b[39mquit()\n",
      "File \u001b[0;32m~/anaconda3/lib/python3.10/site-packages/selenium/webdriver/remote/webdriver.py:286\u001b[0m, in \u001b[0;36mWebDriver.__init__\u001b[0;34m(self, command_executor, desired_capabilities, browser_profile, proxy, keep_alive, file_detector, options)\u001b[0m\n\u001b[1;32m    284\u001b[0m \u001b[39mself\u001b[39m\u001b[39m.\u001b[39m_authenticator_id \u001b[39m=\u001b[39m \u001b[39mNone\u001b[39;00m\n\u001b[1;32m    285\u001b[0m \u001b[39mself\u001b[39m\u001b[39m.\u001b[39mstart_client()\n\u001b[0;32m--> 286\u001b[0m \u001b[39mself\u001b[39;49m\u001b[39m.\u001b[39;49mstart_session(capabilities, browser_profile)\n",
      "File \u001b[0;32m~/anaconda3/lib/python3.10/site-packages/selenium/webdriver/remote/webdriver.py:378\u001b[0m, in \u001b[0;36mWebDriver.start_session\u001b[0;34m(self, capabilities, browser_profile)\u001b[0m\n\u001b[1;32m    376\u001b[0m w3c_caps \u001b[39m=\u001b[39m _make_w3c_caps(capabilities)\n\u001b[1;32m    377\u001b[0m parameters \u001b[39m=\u001b[39m {\u001b[39m\"\u001b[39m\u001b[39mcapabilities\u001b[39m\u001b[39m\"\u001b[39m: w3c_caps}\n\u001b[0;32m--> 378\u001b[0m response \u001b[39m=\u001b[39m \u001b[39mself\u001b[39;49m\u001b[39m.\u001b[39;49mexecute(Command\u001b[39m.\u001b[39;49mNEW_SESSION, parameters)\n\u001b[1;32m    379\u001b[0m \u001b[39mif\u001b[39;00m \u001b[39m\"\u001b[39m\u001b[39msessionId\u001b[39m\u001b[39m\"\u001b[39m \u001b[39mnot\u001b[39;00m \u001b[39min\u001b[39;00m response:\n\u001b[1;32m    380\u001b[0m     response \u001b[39m=\u001b[39m response[\u001b[39m\"\u001b[39m\u001b[39mvalue\u001b[39m\u001b[39m\"\u001b[39m]\n",
      "File \u001b[0;32m~/anaconda3/lib/python3.10/site-packages/selenium/webdriver/remote/webdriver.py:440\u001b[0m, in \u001b[0;36mWebDriver.execute\u001b[0;34m(self, driver_command, params)\u001b[0m\n\u001b[1;32m    438\u001b[0m response \u001b[39m=\u001b[39m \u001b[39mself\u001b[39m\u001b[39m.\u001b[39mcommand_executor\u001b[39m.\u001b[39mexecute(driver_command, params)\n\u001b[1;32m    439\u001b[0m \u001b[39mif\u001b[39;00m response:\n\u001b[0;32m--> 440\u001b[0m     \u001b[39mself\u001b[39;49m\u001b[39m.\u001b[39;49merror_handler\u001b[39m.\u001b[39;49mcheck_response(response)\n\u001b[1;32m    441\u001b[0m     response[\u001b[39m\"\u001b[39m\u001b[39mvalue\u001b[39m\u001b[39m\"\u001b[39m] \u001b[39m=\u001b[39m \u001b[39mself\u001b[39m\u001b[39m.\u001b[39m_unwrap_value(response\u001b[39m.\u001b[39mget(\u001b[39m\"\u001b[39m\u001b[39mvalue\u001b[39m\u001b[39m\"\u001b[39m, \u001b[39mNone\u001b[39;00m))\n\u001b[1;32m    442\u001b[0m     \u001b[39mreturn\u001b[39;00m response\n",
      "File \u001b[0;32m~/anaconda3/lib/python3.10/site-packages/selenium/webdriver/remote/errorhandler.py:245\u001b[0m, in \u001b[0;36mErrorHandler.check_response\u001b[0;34m(self, response)\u001b[0m\n\u001b[1;32m    243\u001b[0m         alert_text \u001b[39m=\u001b[39m value[\u001b[39m\"\u001b[39m\u001b[39malert\u001b[39m\u001b[39m\"\u001b[39m]\u001b[39m.\u001b[39mget(\u001b[39m\"\u001b[39m\u001b[39mtext\u001b[39m\u001b[39m\"\u001b[39m)\n\u001b[1;32m    244\u001b[0m     \u001b[39mraise\u001b[39;00m exception_class(message, screen, stacktrace, alert_text)  \u001b[39m# type: ignore[call-arg]  # mypy is not smart enough here\u001b[39;00m\n\u001b[0;32m--> 245\u001b[0m \u001b[39mraise\u001b[39;00m exception_class(message, screen, stacktrace)\n",
      "\u001b[0;31mSessionNotCreatedException\u001b[0m: Message: session not created: This version of ChromeDriver only supports Chrome version 112\nCurrent browser version is 114.0.5735.133 with binary path /usr/bin/google-chrome\nStacktrace:\n#0 0x558438e11fe3 <unknown>\n#1 0x558438b50d36 <unknown>\n#2 0x558438b7e48c <unknown>\n#3 0x558438b791f3 <unknown>\n#4 0x558438b75a9b <unknown>\n#5 0x558438bb7af7 <unknown>\n#6 0x558438bb711f <unknown>\n#7 0x558438bae693 <unknown>\n#8 0x558438b8103a <unknown>\n#9 0x558438b8217e <unknown>\n#10 0x558438dd3dbd <unknown>\n#11 0x558438dd7c6c <unknown>\n#12 0x558438de14b0 <unknown>\n#13 0x558438dd8d63 <unknown>\n#14 0x558438dabc35 <unknown>\n#15 0x558438dfc138 <unknown>\n#16 0x558438dfc2c7 <unknown>\n#17 0x558438e0a093 <unknown>\n#18 0x7fb815890402 <unknown>\n"
     ]
    }
   ],
   "source": [
    "import time\n",
    "from selenium import webdriver\n",
    "from selenium.webdriver.common.by import By\n",
    "from selenium.webdriver.chrome.service import Service\n",
    "from selenium.webdriver.common.keys import Keys\n",
    "\n",
    "s = Service('/home/ayush/Desktop/test')\n",
    "\n",
    "options = webdriver.ChromeOptions()\n",
    "options.add_experimental_option(\"detach\",True)\n",
    "driver = webdriver.Chrome(options=options)\n",
    "driver.get(\"https://olymptrade.com/\")\n",
    "\n",
    "driver.maximize_window()"
   ]
  },
  {
   "cell_type": "code",
   "execution_count": 3,
   "metadata": {},
   "outputs": [],
   "source": [
    "driver.find_element(by=By.XPATH, value='//*[@id=\"gatsby-focus-wrapper\"]/div/div[1]/header/div/div[2]/div[1]/button/div/div/div/div/span').click()\n",
    "driver.implicitly_wait(7)\n",
    "time.sleep(5)\n",
    "\n",
    "id_box = driver.find_element(by=By.XPATH, value='//*[@id=\"gatsby-focus-wrapper\"]/div/div[4]/div/div[2]/div[2]/div[2]/div/form/div[1]/div/div/div/input')\n",
    "driver.implicitly_wait(7)\n",
    "id_box.send_keys(\"ayushjangid34@gmail.com\")\n",
    "pass_box = driver.find_element(by=By.XPATH, value='//*[@id=\"gatsby-focus-wrapper\"]/div/div[4]/div/div[2]/div[2]/div[2]/div/form/div[2]/div/div/div/input')\n",
    "driver.implicitly_wait(7)\n",
    "pass_box.send_keys(\"Kap@1994\")\n",
    "#driver.find_element(by=By.XPATH , value='//*[@id=\"gatsby-focus-wrapper\"]/div/div[4]/div/div[2]/div[2]/div[2]/div/form/div[3]/div/label').click()\n",
    "driver.implicitly_wait(7)"
   ]
  },
  {
   "cell_type": "code",
   "execution_count": 4,
   "metadata": {},
   "outputs": [],
   "source": [
    "q = driver.find_element(by=By.XPATH , value='//*[@id=\"page-container\"]/div/div[4]/main/div[2]/div[1]/div/div[1]/div/div/div[2]/div/div/div/div[1]/div/div[1]/div/div/div/input')\n",
    "amountt = driver.find_element(by=By.XPATH , value='//*[@id=\"page-container\"]/div/div[4]/main/div[2]/div[1]/div/div[1]/div/div/div[2]/div/div/div/div[1]/div/div[1]/div/div')\n",
    "selector = '//*[@id=\"page-container\"]/div/div[4]/main/div[2]/div[1]/div/div[1]/div/div/div[1]/div/ul/li[1]/div/button/div/div/div[2]/div/span' \n",
    "currencies = '//*[@id=\"page-container\"]/div/div[4]/div[2]/div[2]/div/div/div/div[2]/div/div/div/div[2]/div/div/div/div'\n",
    "driver.find_element(by=By.XPATH , value=selector).click()\n",
    "duration = driver.find_element(by=By.XPATH , value='//*[@id=\"page-container\"]/div/div[4]/main/div[2]/div[1]/div/div[1]/div/div/div[2]/div/div/div/div[2]/div/div/div/div[1]/div/div/div/input')\n",
    "durn = driver.find_element(by=By.XPATH , value='//*[@id=\"page-container\"]/div/div[4]/main/div[2]/div[1]/div/div[1]/div/div/div[2]/div/div/div/div[2]/div/div/div/div[2]/button[1]')\n",
    "durp = driver.find_element(by=By.XPATH , value='//*[@id=\"page-container\"]/div/div[4]/main/div[2]/div[1]/div/div[1]/div/div/div[2]/div/div/div/div[2]/div/div/div/div[2]/button[2]')\n",
    "\n",
    "\n",
    "def trade( curr , amt , dur , sign ):\n",
    "    divs = driver.find_elements(by=By.XPATH , value=currencies)\n",
    "    print(len(divs))\n",
    "    driver.implicitly_wait(5)\n",
    "\n",
    "    for i in range(3,len(divs)-1):\n",
    "        v = '//*[@id=\"page-container\"]/div/div[4]/div[2]/div[2]/div/div/div/div[2]/div/div/div/div[2]/div/div/div/div[' + str(i) + ']/div[1]/div'\n",
    "        driver.implicitly_wait(5)\n",
    "        currv = driver.find_element(by=By.XPATH , value=v).text\n",
    "        print(currv)\n",
    "        if(curr == currv):\n",
    "            driver.find_element(by=By.XPATH , value=v).click()\n",
    "            break      \n",
    "    amountt.click()\n",
    "    for i in range(5):\n",
    "        q.send_keys(Keys.BACK_SPACE)\n",
    "    q.send_keys(str(amt))\n",
    "\n",
    "    duration.click()\n",
    "    for i in range(4):\n",
    "        duration.send_keys(Keys.BACK_SPACE)\n",
    "    duration.send_keys(dur)\n",
    "\n",
    "    if( sign == \"UP\" ):\n",
    "        driver.find_element(by=By.XPATH , value='//*[@id=\"page-container\"]/div/div[4]/main/div[2]/div[1]/div/div[1]/div/div/div[2]/div/div/div/div[3]/div/button[1]').click()\n",
    "    else:\n",
    "        driver.find_element(by=By.XPATH , value='//*[@id=\"page-container\"]/div/div[4]/main/div[2]/div[1]/div/div[1]/div/div/div[2]/div/div/div/div[3]/div/button[2]').click()\n"
   ]
  },
  {
   "cell_type": "code",
   "execution_count": 10,
   "metadata": {},
   "outputs": [
    {
     "name": "stdout",
     "output_type": "stream",
     "text": [
      "95\n",
      "Asia Composite Index\n",
      "Astro Index\n",
      "Commodity Composite Index\n"
     ]
    }
   ],
   "source": [
    "trade( \"Commodity Composite Index\" , 20 , \"00 02\" , \"DOWN\"  )"
   ]
  },
  {
   "cell_type": "code",
   "execution_count": 6,
   "metadata": {},
   "outputs": [],
   "source": []
  },
  {
   "cell_type": "code",
   "execution_count": null,
   "metadata": {},
   "outputs": [],
   "source": []
  }
 ],
 "metadata": {
  "kernelspec": {
   "display_name": "base",
   "language": "python",
   "name": "python3"
  },
  "language_info": {
   "codemirror_mode": {
    "name": "ipython",
    "version": 3
   },
   "file_extension": ".py",
   "mimetype": "text/x-python",
   "name": "python",
   "nbconvert_exporter": "python",
   "pygments_lexer": "ipython3",
   "version": "3.10.9"
  },
  "orig_nbformat": 4
 },
 "nbformat": 4,
 "nbformat_minor": 2
}
