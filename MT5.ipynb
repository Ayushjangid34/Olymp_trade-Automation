{
 "cells": [
  {
   "cell_type": "code",
   "execution_count": 1,
   "metadata": {},
   "outputs": [
    {
     "name": "stdout",
     "output_type": "stream",
     "text": [
      "TerminalInfo(community_account=False, community_connection=False, connected=True, dlls_allowed=False, trade_allowed=False, tradeapi_disabled=False, email_enabled=False, ftp_enabled=False, notifications_enabled=False, mqid=False, build=3683, maxbars=100000, codepage=0, ping_last=185860, community_balance=0.0, retransmission=0.0, company='MetaQuotes Software Corp.', name='MetaTrader 5', language='English', path='C:\\\\Program Files\\\\MetaTrader 5', data_path='C:\\\\Program Files\\\\MetaTrader 5', ...)\n",
      "(500, 3683, '16 Apr 2023')\n",
      "None\n"
     ]
    }
   ],
   "source": [
    "# import the package\n",
    "from mt5linux import MetaTrader5\n",
    "# connecto to the server\n",
    "mt5 = MetaTrader5(\n",
    "    # host = 'localhost' (default)\n",
    "    # port = 18812       (default)\n",
    ") \n",
    "# use as you learned from: https://www.mql5.com/en/docs/integration/python_metatrader5/\n",
    "# establish MetaTrader 5 connection to a specified trading account\n",
    "if not mt5.initialize(login= 69068654, server=\"MetaQuotes-Demo\",password=\"vpklac8s\"):\n",
    "    print(\"initialize() failed, error code =\",mt5.last_error())\n",
    "    quit()\n",
    "\n",
    "print(mt5.terminal_info())\n",
    "# display data on MetaTrader 5 version\n",
    "print(mt5.version())\n",
    "\n",
    "print(mt5.copy_rates_from_pos('VALE3',mt5.TIMEFRAME_M1,0,1000))\n",
    "# ...\n",
    "# don't forget to shutdown\n",
    "#mt5.shutdown()"
   ]
  },
  {
   "cell_type": "code",
   "execution_count": 2,
   "metadata": {},
   "outputs": [],
   "source": [
    "import pandas as pd  # install using 'pip install pandas'\n",
    "from datetime import datetime\n",
    "import time\n",
    "def signal(symbol, timeframe, sma_period):\n",
    "    bars = mt5.copy_rates_from_pos(symbol, timeframe, 1, sma_period)\n",
    "    bars_df = pd.DataFrame(bars)\n",
    "\n",
    "    last_close = bars_df.iloc[-1].close\n",
    "    print(last_close)\n",
    "    sma = bars_df.close.mean()\n",
    "\n",
    "    direction = 'flat'\n",
    "    if last_close > sma:\n",
    "        direction = 'buy'\n",
    "    elif last_close < sma:\n",
    "        direction = 'sell'\n",
    "\n",
    "    return last_close, sma, direction"
   ]
  },
  {
   "cell_type": "code",
   "execution_count": 3,
   "metadata": {},
   "outputs": [],
   "source": [
    "SYMBOL = \"EURUSD\"\n",
    "TIMEFRAME = mt5.TIMEFRAME_M1\n",
    "SMA_PERIOD = 10\n",
    "\n",
    "#mt5.initialize()\n",
    "\n",
    "while 0:\n",
    "        # calculating last candle close and simple moving average and checking for trading signal\n",
    "        last_close, sma, direction = signal(SYMBOL, TIMEFRAME, SMA_PERIOD)\n",
    "\n",
    "\n",
    "        #print('time: ', datetime.now())\n",
    "    \n",
    "        #print('last_close: ', last_close)\n",
    "        #print('sma: ', sma)\n",
    "        #print('signal: ', direction)\n",
    "        #print('-------\\n')\n",
    "\n",
    "        # update every 1 second\n",
    "        time.sleep(1)"
   ]
  },
  {
   "cell_type": "code",
   "execution_count": 2,
   "metadata": {},
   "outputs": [],
   "source": [
    "import pandas as pd\n",
    "import plotly.express as px\n",
    "\n",
    "#settings \n",
    "symbol = \"EURUSD\"\n",
    "timeframe = mt5.TIMEFRAME_M1\n",
    "start_pos = 0\n",
    "num_bars = 14"
   ]
  },
  {
   "cell_type": "code",
   "execution_count": 3,
   "metadata": {},
   "outputs": [
    {
     "data": {
      "text/html": [
       "<div>\n",
       "<style scoped>\n",
       "    .dataframe tbody tr th:only-of-type {\n",
       "        vertical-align: middle;\n",
       "    }\n",
       "\n",
       "    .dataframe tbody tr th {\n",
       "        vertical-align: top;\n",
       "    }\n",
       "\n",
       "    .dataframe thead th {\n",
       "        text-align: right;\n",
       "    }\n",
       "</style>\n",
       "<table border=\"1\" class=\"dataframe\">\n",
       "  <thead>\n",
       "    <tr style=\"text-align: right;\">\n",
       "      <th></th>\n",
       "      <th>time</th>\n",
       "      <th>open</th>\n",
       "      <th>high</th>\n",
       "      <th>low</th>\n",
       "      <th>close</th>\n",
       "    </tr>\n",
       "  </thead>\n",
       "  <tbody>\n",
       "    <tr>\n",
       "      <th>0</th>\n",
       "      <td>2023-05-10 20:08:00</td>\n",
       "      <td>1.09705</td>\n",
       "      <td>1.09727</td>\n",
       "      <td>1.09704</td>\n",
       "      <td>1.09720</td>\n",
       "    </tr>\n",
       "    <tr>\n",
       "      <th>1</th>\n",
       "      <td>2023-05-10 20:09:00</td>\n",
       "      <td>1.09719</td>\n",
       "      <td>1.09725</td>\n",
       "      <td>1.09709</td>\n",
       "      <td>1.09711</td>\n",
       "    </tr>\n",
       "    <tr>\n",
       "      <th>2</th>\n",
       "      <td>2023-05-10 20:10:00</td>\n",
       "      <td>1.09706</td>\n",
       "      <td>1.09711</td>\n",
       "      <td>1.09697</td>\n",
       "      <td>1.09703</td>\n",
       "    </tr>\n",
       "    <tr>\n",
       "      <th>3</th>\n",
       "      <td>2023-05-10 20:11:00</td>\n",
       "      <td>1.09703</td>\n",
       "      <td>1.09703</td>\n",
       "      <td>1.09686</td>\n",
       "      <td>1.09688</td>\n",
       "    </tr>\n",
       "    <tr>\n",
       "      <th>4</th>\n",
       "      <td>2023-05-10 20:12:00</td>\n",
       "      <td>1.09688</td>\n",
       "      <td>1.09703</td>\n",
       "      <td>1.09683</td>\n",
       "      <td>1.09702</td>\n",
       "    </tr>\n",
       "    <tr>\n",
       "      <th>5</th>\n",
       "      <td>2023-05-10 20:13:00</td>\n",
       "      <td>1.09704</td>\n",
       "      <td>1.09708</td>\n",
       "      <td>1.09696</td>\n",
       "      <td>1.09699</td>\n",
       "    </tr>\n",
       "    <tr>\n",
       "      <th>6</th>\n",
       "      <td>2023-05-10 20:14:00</td>\n",
       "      <td>1.09699</td>\n",
       "      <td>1.09700</td>\n",
       "      <td>1.09693</td>\n",
       "      <td>1.09693</td>\n",
       "    </tr>\n",
       "    <tr>\n",
       "      <th>7</th>\n",
       "      <td>2023-05-10 20:15:00</td>\n",
       "      <td>1.09693</td>\n",
       "      <td>1.09695</td>\n",
       "      <td>1.09682</td>\n",
       "      <td>1.09683</td>\n",
       "    </tr>\n",
       "    <tr>\n",
       "      <th>8</th>\n",
       "      <td>2023-05-10 20:16:00</td>\n",
       "      <td>1.09683</td>\n",
       "      <td>1.09688</td>\n",
       "      <td>1.09682</td>\n",
       "      <td>1.09684</td>\n",
       "    </tr>\n",
       "    <tr>\n",
       "      <th>9</th>\n",
       "      <td>2023-05-10 20:17:00</td>\n",
       "      <td>1.09683</td>\n",
       "      <td>1.09691</td>\n",
       "      <td>1.09683</td>\n",
       "      <td>1.09683</td>\n",
       "    </tr>\n",
       "    <tr>\n",
       "      <th>10</th>\n",
       "      <td>2023-05-10 20:18:00</td>\n",
       "      <td>1.09683</td>\n",
       "      <td>1.09707</td>\n",
       "      <td>1.09683</td>\n",
       "      <td>1.09703</td>\n",
       "    </tr>\n",
       "    <tr>\n",
       "      <th>11</th>\n",
       "      <td>2023-05-10 20:19:00</td>\n",
       "      <td>1.09703</td>\n",
       "      <td>1.09710</td>\n",
       "      <td>1.09693</td>\n",
       "      <td>1.09707</td>\n",
       "    </tr>\n",
       "    <tr>\n",
       "      <th>12</th>\n",
       "      <td>2023-05-10 20:20:00</td>\n",
       "      <td>1.09706</td>\n",
       "      <td>1.09708</td>\n",
       "      <td>1.09697</td>\n",
       "      <td>1.09698</td>\n",
       "    </tr>\n",
       "    <tr>\n",
       "      <th>13</th>\n",
       "      <td>2023-05-10 20:21:00</td>\n",
       "      <td>1.09698</td>\n",
       "      <td>1.09698</td>\n",
       "      <td>1.09693</td>\n",
       "      <td>1.09695</td>\n",
       "    </tr>\n",
       "  </tbody>\n",
       "</table>\n",
       "</div>"
      ],
      "text/plain": [
       "                  time     open     high      low    close\n",
       "0  2023-05-10 20:08:00  1.09705  1.09727  1.09704  1.09720\n",
       "1  2023-05-10 20:09:00  1.09719  1.09725  1.09709  1.09711\n",
       "2  2023-05-10 20:10:00  1.09706  1.09711  1.09697  1.09703\n",
       "3  2023-05-10 20:11:00  1.09703  1.09703  1.09686  1.09688\n",
       "4  2023-05-10 20:12:00  1.09688  1.09703  1.09683  1.09702\n",
       "5  2023-05-10 20:13:00  1.09704  1.09708  1.09696  1.09699\n",
       "6  2023-05-10 20:14:00  1.09699  1.09700  1.09693  1.09693\n",
       "7  2023-05-10 20:15:00  1.09693  1.09695  1.09682  1.09683\n",
       "8  2023-05-10 20:16:00  1.09683  1.09688  1.09682  1.09684\n",
       "9  2023-05-10 20:17:00  1.09683  1.09691  1.09683  1.09683\n",
       "10 2023-05-10 20:18:00  1.09683  1.09707  1.09683  1.09703\n",
       "11 2023-05-10 20:19:00  1.09703  1.09710  1.09693  1.09707\n",
       "12 2023-05-10 20:20:00  1.09706  1.09708  1.09697  1.09698\n",
       "13 2023-05-10 20:21:00  1.09698  1.09698  1.09693  1.09695"
      ]
     },
     "execution_count": 3,
     "metadata": {},
     "output_type": "execute_result"
    }
   ],
   "source": [
    "bars = mt5.copy_rates_from_pos(symbol,timeframe,start_pos,num_bars)\n",
    "df = pd.DataFrame(bars)[['time','open','high','low','close']]\n",
    "df['time'] = pd.to_datetime(df['time'],unit='s')\n",
    "\n",
    "df"
   ]
  },
  {
   "cell_type": "code",
   "execution_count": null,
   "metadata": {},
   "outputs": [],
   "source": []
  },
  {
   "cell_type": "code",
   "execution_count": 4,
   "metadata": {},
   "outputs": [
    {
     "data": {
      "application/vnd.plotly.v1+json": {
       "config": {
        "plotlyServerURL": "https://plot.ly"
       },
       "data": [
        {
         "hovertemplate": "time=%{x}<br>close=%{y}<extra></extra>",
         "legendgroup": "",
         "line": {
          "color": "#636efa",
          "dash": "solid"
         },
         "marker": {
          "symbol": "circle"
         },
         "mode": "lines",
         "name": "",
         "orientation": "v",
         "showlegend": false,
         "type": "scatter",
         "x": [
          "2023-05-10T20:08:00",
          "2023-05-10T20:09:00",
          "2023-05-10T20:10:00",
          "2023-05-10T20:11:00",
          "2023-05-10T20:12:00",
          "2023-05-10T20:13:00",
          "2023-05-10T20:14:00",
          "2023-05-10T20:15:00",
          "2023-05-10T20:16:00",
          "2023-05-10T20:17:00",
          "2023-05-10T20:18:00",
          "2023-05-10T20:19:00",
          "2023-05-10T20:20:00",
          "2023-05-10T20:21:00"
         ],
         "xaxis": "x",
         "y": [
          1.0972,
          1.09711,
          1.09703,
          1.09688,
          1.09702,
          1.09699,
          1.09693,
          1.09683,
          1.09684,
          1.09683,
          1.09703,
          1.09707,
          1.09698,
          1.09695
         ],
         "yaxis": "y"
        }
       ],
       "layout": {
        "legend": {
         "tracegroupgap": 0
        },
        "template": {
         "data": {
          "bar": [
           {
            "error_x": {
             "color": "#2a3f5f"
            },
            "error_y": {
             "color": "#2a3f5f"
            },
            "marker": {
             "line": {
              "color": "#E5ECF6",
              "width": 0.5
             },
             "pattern": {
              "fillmode": "overlay",
              "size": 10,
              "solidity": 0.2
             }
            },
            "type": "bar"
           }
          ],
          "barpolar": [
           {
            "marker": {
             "line": {
              "color": "#E5ECF6",
              "width": 0.5
             },
             "pattern": {
              "fillmode": "overlay",
              "size": 10,
              "solidity": 0.2
             }
            },
            "type": "barpolar"
           }
          ],
          "carpet": [
           {
            "aaxis": {
             "endlinecolor": "#2a3f5f",
             "gridcolor": "white",
             "linecolor": "white",
             "minorgridcolor": "white",
             "startlinecolor": "#2a3f5f"
            },
            "baxis": {
             "endlinecolor": "#2a3f5f",
             "gridcolor": "white",
             "linecolor": "white",
             "minorgridcolor": "white",
             "startlinecolor": "#2a3f5f"
            },
            "type": "carpet"
           }
          ],
          "choropleth": [
           {
            "colorbar": {
             "outlinewidth": 0,
             "ticks": ""
            },
            "type": "choropleth"
           }
          ],
          "contour": [
           {
            "colorbar": {
             "outlinewidth": 0,
             "ticks": ""
            },
            "colorscale": [
             [
              0,
              "#0d0887"
             ],
             [
              0.1111111111111111,
              "#46039f"
             ],
             [
              0.2222222222222222,
              "#7201a8"
             ],
             [
              0.3333333333333333,
              "#9c179e"
             ],
             [
              0.4444444444444444,
              "#bd3786"
             ],
             [
              0.5555555555555556,
              "#d8576b"
             ],
             [
              0.6666666666666666,
              "#ed7953"
             ],
             [
              0.7777777777777778,
              "#fb9f3a"
             ],
             [
              0.8888888888888888,
              "#fdca26"
             ],
             [
              1,
              "#f0f921"
             ]
            ],
            "type": "contour"
           }
          ],
          "contourcarpet": [
           {
            "colorbar": {
             "outlinewidth": 0,
             "ticks": ""
            },
            "type": "contourcarpet"
           }
          ],
          "heatmap": [
           {
            "colorbar": {
             "outlinewidth": 0,
             "ticks": ""
            },
            "colorscale": [
             [
              0,
              "#0d0887"
             ],
             [
              0.1111111111111111,
              "#46039f"
             ],
             [
              0.2222222222222222,
              "#7201a8"
             ],
             [
              0.3333333333333333,
              "#9c179e"
             ],
             [
              0.4444444444444444,
              "#bd3786"
             ],
             [
              0.5555555555555556,
              "#d8576b"
             ],
             [
              0.6666666666666666,
              "#ed7953"
             ],
             [
              0.7777777777777778,
              "#fb9f3a"
             ],
             [
              0.8888888888888888,
              "#fdca26"
             ],
             [
              1,
              "#f0f921"
             ]
            ],
            "type": "heatmap"
           }
          ],
          "heatmapgl": [
           {
            "colorbar": {
             "outlinewidth": 0,
             "ticks": ""
            },
            "colorscale": [
             [
              0,
              "#0d0887"
             ],
             [
              0.1111111111111111,
              "#46039f"
             ],
             [
              0.2222222222222222,
              "#7201a8"
             ],
             [
              0.3333333333333333,
              "#9c179e"
             ],
             [
              0.4444444444444444,
              "#bd3786"
             ],
             [
              0.5555555555555556,
              "#d8576b"
             ],
             [
              0.6666666666666666,
              "#ed7953"
             ],
             [
              0.7777777777777778,
              "#fb9f3a"
             ],
             [
              0.8888888888888888,
              "#fdca26"
             ],
             [
              1,
              "#f0f921"
             ]
            ],
            "type": "heatmapgl"
           }
          ],
          "histogram": [
           {
            "marker": {
             "pattern": {
              "fillmode": "overlay",
              "size": 10,
              "solidity": 0.2
             }
            },
            "type": "histogram"
           }
          ],
          "histogram2d": [
           {
            "colorbar": {
             "outlinewidth": 0,
             "ticks": ""
            },
            "colorscale": [
             [
              0,
              "#0d0887"
             ],
             [
              0.1111111111111111,
              "#46039f"
             ],
             [
              0.2222222222222222,
              "#7201a8"
             ],
             [
              0.3333333333333333,
              "#9c179e"
             ],
             [
              0.4444444444444444,
              "#bd3786"
             ],
             [
              0.5555555555555556,
              "#d8576b"
             ],
             [
              0.6666666666666666,
              "#ed7953"
             ],
             [
              0.7777777777777778,
              "#fb9f3a"
             ],
             [
              0.8888888888888888,
              "#fdca26"
             ],
             [
              1,
              "#f0f921"
             ]
            ],
            "type": "histogram2d"
           }
          ],
          "histogram2dcontour": [
           {
            "colorbar": {
             "outlinewidth": 0,
             "ticks": ""
            },
            "colorscale": [
             [
              0,
              "#0d0887"
             ],
             [
              0.1111111111111111,
              "#46039f"
             ],
             [
              0.2222222222222222,
              "#7201a8"
             ],
             [
              0.3333333333333333,
              "#9c179e"
             ],
             [
              0.4444444444444444,
              "#bd3786"
             ],
             [
              0.5555555555555556,
              "#d8576b"
             ],
             [
              0.6666666666666666,
              "#ed7953"
             ],
             [
              0.7777777777777778,
              "#fb9f3a"
             ],
             [
              0.8888888888888888,
              "#fdca26"
             ],
             [
              1,
              "#f0f921"
             ]
            ],
            "type": "histogram2dcontour"
           }
          ],
          "mesh3d": [
           {
            "colorbar": {
             "outlinewidth": 0,
             "ticks": ""
            },
            "type": "mesh3d"
           }
          ],
          "parcoords": [
           {
            "line": {
             "colorbar": {
              "outlinewidth": 0,
              "ticks": ""
             }
            },
            "type": "parcoords"
           }
          ],
          "pie": [
           {
            "automargin": true,
            "type": "pie"
           }
          ],
          "scatter": [
           {
            "fillpattern": {
             "fillmode": "overlay",
             "size": 10,
             "solidity": 0.2
            },
            "type": "scatter"
           }
          ],
          "scatter3d": [
           {
            "line": {
             "colorbar": {
              "outlinewidth": 0,
              "ticks": ""
             }
            },
            "marker": {
             "colorbar": {
              "outlinewidth": 0,
              "ticks": ""
             }
            },
            "type": "scatter3d"
           }
          ],
          "scattercarpet": [
           {
            "marker": {
             "colorbar": {
              "outlinewidth": 0,
              "ticks": ""
             }
            },
            "type": "scattercarpet"
           }
          ],
          "scattergeo": [
           {
            "marker": {
             "colorbar": {
              "outlinewidth": 0,
              "ticks": ""
             }
            },
            "type": "scattergeo"
           }
          ],
          "scattergl": [
           {
            "marker": {
             "colorbar": {
              "outlinewidth": 0,
              "ticks": ""
             }
            },
            "type": "scattergl"
           }
          ],
          "scattermapbox": [
           {
            "marker": {
             "colorbar": {
              "outlinewidth": 0,
              "ticks": ""
             }
            },
            "type": "scattermapbox"
           }
          ],
          "scatterpolar": [
           {
            "marker": {
             "colorbar": {
              "outlinewidth": 0,
              "ticks": ""
             }
            },
            "type": "scatterpolar"
           }
          ],
          "scatterpolargl": [
           {
            "marker": {
             "colorbar": {
              "outlinewidth": 0,
              "ticks": ""
             }
            },
            "type": "scatterpolargl"
           }
          ],
          "scatterternary": [
           {
            "marker": {
             "colorbar": {
              "outlinewidth": 0,
              "ticks": ""
             }
            },
            "type": "scatterternary"
           }
          ],
          "surface": [
           {
            "colorbar": {
             "outlinewidth": 0,
             "ticks": ""
            },
            "colorscale": [
             [
              0,
              "#0d0887"
             ],
             [
              0.1111111111111111,
              "#46039f"
             ],
             [
              0.2222222222222222,
              "#7201a8"
             ],
             [
              0.3333333333333333,
              "#9c179e"
             ],
             [
              0.4444444444444444,
              "#bd3786"
             ],
             [
              0.5555555555555556,
              "#d8576b"
             ],
             [
              0.6666666666666666,
              "#ed7953"
             ],
             [
              0.7777777777777778,
              "#fb9f3a"
             ],
             [
              0.8888888888888888,
              "#fdca26"
             ],
             [
              1,
              "#f0f921"
             ]
            ],
            "type": "surface"
           }
          ],
          "table": [
           {
            "cells": {
             "fill": {
              "color": "#EBF0F8"
             },
             "line": {
              "color": "white"
             }
            },
            "header": {
             "fill": {
              "color": "#C8D4E3"
             },
             "line": {
              "color": "white"
             }
            },
            "type": "table"
           }
          ]
         },
         "layout": {
          "annotationdefaults": {
           "arrowcolor": "#2a3f5f",
           "arrowhead": 0,
           "arrowwidth": 1
          },
          "autotypenumbers": "strict",
          "coloraxis": {
           "colorbar": {
            "outlinewidth": 0,
            "ticks": ""
           }
          },
          "colorscale": {
           "diverging": [
            [
             0,
             "#8e0152"
            ],
            [
             0.1,
             "#c51b7d"
            ],
            [
             0.2,
             "#de77ae"
            ],
            [
             0.3,
             "#f1b6da"
            ],
            [
             0.4,
             "#fde0ef"
            ],
            [
             0.5,
             "#f7f7f7"
            ],
            [
             0.6,
             "#e6f5d0"
            ],
            [
             0.7,
             "#b8e186"
            ],
            [
             0.8,
             "#7fbc41"
            ],
            [
             0.9,
             "#4d9221"
            ],
            [
             1,
             "#276419"
            ]
           ],
           "sequential": [
            [
             0,
             "#0d0887"
            ],
            [
             0.1111111111111111,
             "#46039f"
            ],
            [
             0.2222222222222222,
             "#7201a8"
            ],
            [
             0.3333333333333333,
             "#9c179e"
            ],
            [
             0.4444444444444444,
             "#bd3786"
            ],
            [
             0.5555555555555556,
             "#d8576b"
            ],
            [
             0.6666666666666666,
             "#ed7953"
            ],
            [
             0.7777777777777778,
             "#fb9f3a"
            ],
            [
             0.8888888888888888,
             "#fdca26"
            ],
            [
             1,
             "#f0f921"
            ]
           ],
           "sequentialminus": [
            [
             0,
             "#0d0887"
            ],
            [
             0.1111111111111111,
             "#46039f"
            ],
            [
             0.2222222222222222,
             "#7201a8"
            ],
            [
             0.3333333333333333,
             "#9c179e"
            ],
            [
             0.4444444444444444,
             "#bd3786"
            ],
            [
             0.5555555555555556,
             "#d8576b"
            ],
            [
             0.6666666666666666,
             "#ed7953"
            ],
            [
             0.7777777777777778,
             "#fb9f3a"
            ],
            [
             0.8888888888888888,
             "#fdca26"
            ],
            [
             1,
             "#f0f921"
            ]
           ]
          },
          "colorway": [
           "#636efa",
           "#EF553B",
           "#00cc96",
           "#ab63fa",
           "#FFA15A",
           "#19d3f3",
           "#FF6692",
           "#B6E880",
           "#FF97FF",
           "#FECB52"
          ],
          "font": {
           "color": "#2a3f5f"
          },
          "geo": {
           "bgcolor": "white",
           "lakecolor": "white",
           "landcolor": "#E5ECF6",
           "showlakes": true,
           "showland": true,
           "subunitcolor": "white"
          },
          "hoverlabel": {
           "align": "left"
          },
          "hovermode": "closest",
          "mapbox": {
           "style": "light"
          },
          "paper_bgcolor": "white",
          "plot_bgcolor": "#E5ECF6",
          "polar": {
           "angularaxis": {
            "gridcolor": "white",
            "linecolor": "white",
            "ticks": ""
           },
           "bgcolor": "#E5ECF6",
           "radialaxis": {
            "gridcolor": "white",
            "linecolor": "white",
            "ticks": ""
           }
          },
          "scene": {
           "xaxis": {
            "backgroundcolor": "#E5ECF6",
            "gridcolor": "white",
            "gridwidth": 2,
            "linecolor": "white",
            "showbackground": true,
            "ticks": "",
            "zerolinecolor": "white"
           },
           "yaxis": {
            "backgroundcolor": "#E5ECF6",
            "gridcolor": "white",
            "gridwidth": 2,
            "linecolor": "white",
            "showbackground": true,
            "ticks": "",
            "zerolinecolor": "white"
           },
           "zaxis": {
            "backgroundcolor": "#E5ECF6",
            "gridcolor": "white",
            "gridwidth": 2,
            "linecolor": "white",
            "showbackground": true,
            "ticks": "",
            "zerolinecolor": "white"
           }
          },
          "shapedefaults": {
           "line": {
            "color": "#2a3f5f"
           }
          },
          "ternary": {
           "aaxis": {
            "gridcolor": "white",
            "linecolor": "white",
            "ticks": ""
           },
           "baxis": {
            "gridcolor": "white",
            "linecolor": "white",
            "ticks": ""
           },
           "bgcolor": "#E5ECF6",
           "caxis": {
            "gridcolor": "white",
            "linecolor": "white",
            "ticks": ""
           }
          },
          "title": {
           "x": 0.05
          },
          "xaxis": {
           "automargin": true,
           "gridcolor": "white",
           "linecolor": "white",
           "ticks": "",
           "title": {
            "standoff": 15
           },
           "zerolinecolor": "white",
           "zerolinewidth": 2
          },
          "yaxis": {
           "automargin": true,
           "gridcolor": "white",
           "linecolor": "white",
           "ticks": "",
           "title": {
            "standoff": 15
           },
           "zerolinecolor": "white",
           "zerolinewidth": 2
          }
         }
        },
        "title": {
         "text": "EURUSD - Close Prices"
        },
        "xaxis": {
         "anchor": "y",
         "domain": [
          0,
          1
         ],
         "title": {
          "text": "time"
         }
        },
        "yaxis": {
         "anchor": "x",
         "domain": [
          0,
          1
         ],
         "title": {
          "text": "close"
         }
        }
       }
      }
     },
     "metadata": {},
     "output_type": "display_data"
    }
   ],
   "source": [
    "fig= px.line(df, x='time', y='close', title='EURUSD - Close Prices') #creating a figure using px. Line\n",
    "display (fig)# showing figure in output"
   ]
  },
  {
   "cell_type": "code",
   "execution_count": 5,
   "metadata": {},
   "outputs": [
    {
     "data": {
      "text/html": [
       "<div>\n",
       "<style scoped>\n",
       "    .dataframe tbody tr th:only-of-type {\n",
       "        vertical-align: middle;\n",
       "    }\n",
       "\n",
       "    .dataframe tbody tr th {\n",
       "        vertical-align: top;\n",
       "    }\n",
       "\n",
       "    .dataframe thead th {\n",
       "        text-align: right;\n",
       "    }\n",
       "</style>\n",
       "<table border=\"1\" class=\"dataframe\">\n",
       "  <thead>\n",
       "    <tr style=\"text-align: right;\">\n",
       "      <th></th>\n",
       "      <th>time</th>\n",
       "      <th>rsi_14</th>\n",
       "      <th>rs</th>\n",
       "      <th>ema_gain</th>\n",
       "      <th>ema_loss</th>\n",
       "    </tr>\n",
       "  </thead>\n",
       "  <tbody>\n",
       "    <tr>\n",
       "      <th>0</th>\n",
       "      <td>2023-05-10 20:08:00</td>\n",
       "      <td>NaN</td>\n",
       "      <td>NaN</td>\n",
       "      <td>NaN</td>\n",
       "      <td>NaN</td>\n",
       "    </tr>\n",
       "    <tr>\n",
       "      <th>1</th>\n",
       "      <td>2023-05-10 20:09:00</td>\n",
       "      <td>NaN</td>\n",
       "      <td>NaN</td>\n",
       "      <td>NaN</td>\n",
       "      <td>NaN</td>\n",
       "    </tr>\n",
       "    <tr>\n",
       "      <th>2</th>\n",
       "      <td>2023-05-10 20:10:00</td>\n",
       "      <td>NaN</td>\n",
       "      <td>NaN</td>\n",
       "      <td>NaN</td>\n",
       "      <td>NaN</td>\n",
       "    </tr>\n",
       "    <tr>\n",
       "      <th>3</th>\n",
       "      <td>2023-05-10 20:11:00</td>\n",
       "      <td>NaN</td>\n",
       "      <td>NaN</td>\n",
       "      <td>NaN</td>\n",
       "      <td>NaN</td>\n",
       "    </tr>\n",
       "    <tr>\n",
       "      <th>4</th>\n",
       "      <td>2023-05-10 20:12:00</td>\n",
       "      <td>NaN</td>\n",
       "      <td>NaN</td>\n",
       "      <td>NaN</td>\n",
       "      <td>NaN</td>\n",
       "    </tr>\n",
       "    <tr>\n",
       "      <th>5</th>\n",
       "      <td>2023-05-10 20:13:00</td>\n",
       "      <td>NaN</td>\n",
       "      <td>NaN</td>\n",
       "      <td>NaN</td>\n",
       "      <td>NaN</td>\n",
       "    </tr>\n",
       "    <tr>\n",
       "      <th>6</th>\n",
       "      <td>2023-05-10 20:14:00</td>\n",
       "      <td>NaN</td>\n",
       "      <td>NaN</td>\n",
       "      <td>NaN</td>\n",
       "      <td>NaN</td>\n",
       "    </tr>\n",
       "    <tr>\n",
       "      <th>7</th>\n",
       "      <td>2023-05-10 20:15:00</td>\n",
       "      <td>NaN</td>\n",
       "      <td>NaN</td>\n",
       "      <td>NaN</td>\n",
       "      <td>NaN</td>\n",
       "    </tr>\n",
       "    <tr>\n",
       "      <th>8</th>\n",
       "      <td>2023-05-10 20:16:00</td>\n",
       "      <td>NaN</td>\n",
       "      <td>NaN</td>\n",
       "      <td>NaN</td>\n",
       "      <td>NaN</td>\n",
       "    </tr>\n",
       "    <tr>\n",
       "      <th>9</th>\n",
       "      <td>2023-05-10 20:17:00</td>\n",
       "      <td>NaN</td>\n",
       "      <td>NaN</td>\n",
       "      <td>NaN</td>\n",
       "      <td>NaN</td>\n",
       "    </tr>\n",
       "    <tr>\n",
       "      <th>10</th>\n",
       "      <td>2023-05-10 20:18:00</td>\n",
       "      <td>NaN</td>\n",
       "      <td>NaN</td>\n",
       "      <td>NaN</td>\n",
       "      <td>NaN</td>\n",
       "    </tr>\n",
       "    <tr>\n",
       "      <th>11</th>\n",
       "      <td>2023-05-10 20:19:00</td>\n",
       "      <td>NaN</td>\n",
       "      <td>NaN</td>\n",
       "      <td>NaN</td>\n",
       "      <td>NaN</td>\n",
       "    </tr>\n",
       "    <tr>\n",
       "      <th>12</th>\n",
       "      <td>2023-05-10 20:20:00</td>\n",
       "      <td>NaN</td>\n",
       "      <td>NaN</td>\n",
       "      <td>NaN</td>\n",
       "      <td>NaN</td>\n",
       "    </tr>\n",
       "    <tr>\n",
       "      <th>13</th>\n",
       "      <td>2023-05-10 20:21:00</td>\n",
       "      <td>49.027339</td>\n",
       "      <td>0.961836</td>\n",
       "      <td>0.000035</td>\n",
       "      <td>0.000036</td>\n",
       "    </tr>\n",
       "  </tbody>\n",
       "</table>\n",
       "</div>"
      ],
      "text/plain": [
       "                  time     rsi_14        rs  ema_gain  ema_loss\n",
       "0  2023-05-10 20:08:00        NaN       NaN       NaN       NaN\n",
       "1  2023-05-10 20:09:00        NaN       NaN       NaN       NaN\n",
       "2  2023-05-10 20:10:00        NaN       NaN       NaN       NaN\n",
       "3  2023-05-10 20:11:00        NaN       NaN       NaN       NaN\n",
       "4  2023-05-10 20:12:00        NaN       NaN       NaN       NaN\n",
       "5  2023-05-10 20:13:00        NaN       NaN       NaN       NaN\n",
       "6  2023-05-10 20:14:00        NaN       NaN       NaN       NaN\n",
       "7  2023-05-10 20:15:00        NaN       NaN       NaN       NaN\n",
       "8  2023-05-10 20:16:00        NaN       NaN       NaN       NaN\n",
       "9  2023-05-10 20:17:00        NaN       NaN       NaN       NaN\n",
       "10 2023-05-10 20:18:00        NaN       NaN       NaN       NaN\n",
       "11 2023-05-10 20:19:00        NaN       NaN       NaN       NaN\n",
       "12 2023-05-10 20:20:00        NaN       NaN       NaN       NaN\n",
       "13 2023-05-10 20:21:00  49.027339  0.961836  0.000035  0.000036"
      ]
     },
     "metadata": {},
     "output_type": "display_data"
    },
    {
     "data": {
      "application/vnd.plotly.v1+json": {
       "config": {
        "plotlyServerURL": "https://plot.ly"
       },
       "data": [
        {
         "hovertemplate": "time=%{x}<br>rsi_14=%{y}<extra></extra>",
         "legendgroup": "",
         "line": {
          "color": "#636efa",
          "dash": "solid"
         },
         "marker": {
          "symbol": "circle"
         },
         "mode": "lines",
         "name": "",
         "orientation": "v",
         "showlegend": false,
         "type": "scatter",
         "x": [
          "2023-05-10T20:08:00",
          "2023-05-10T20:09:00",
          "2023-05-10T20:10:00",
          "2023-05-10T20:11:00",
          "2023-05-10T20:12:00",
          "2023-05-10T20:13:00",
          "2023-05-10T20:14:00",
          "2023-05-10T20:15:00",
          "2023-05-10T20:16:00",
          "2023-05-10T20:17:00",
          "2023-05-10T20:18:00",
          "2023-05-10T20:19:00",
          "2023-05-10T20:20:00",
          "2023-05-10T20:21:00"
         ],
         "xaxis": "x",
         "y": [
          null,
          null,
          null,
          null,
          null,
          null,
          null,
          null,
          null,
          null,
          null,
          null,
          null,
          49.027338748720446
         ],
         "yaxis": "y"
        }
       ],
       "layout": {
        "legend": {
         "tracegroupgap": 0
        },
        "shapes": [
         {
          "opacity": 0.5,
          "type": "line",
          "x0": 0,
          "x1": 1,
          "xref": "x domain",
          "y0": 70,
          "y1": 70,
          "yref": "y"
         },
         {
          "opacity": 0.5,
          "type": "line",
          "x0": 0,
          "x1": 1,
          "xref": "x domain",
          "y0": 30,
          "y1": 30,
          "yref": "y"
         }
        ],
        "template": {
         "data": {
          "bar": [
           {
            "error_x": {
             "color": "#2a3f5f"
            },
            "error_y": {
             "color": "#2a3f5f"
            },
            "marker": {
             "line": {
              "color": "#E5ECF6",
              "width": 0.5
             },
             "pattern": {
              "fillmode": "overlay",
              "size": 10,
              "solidity": 0.2
             }
            },
            "type": "bar"
           }
          ],
          "barpolar": [
           {
            "marker": {
             "line": {
              "color": "#E5ECF6",
              "width": 0.5
             },
             "pattern": {
              "fillmode": "overlay",
              "size": 10,
              "solidity": 0.2
             }
            },
            "type": "barpolar"
           }
          ],
          "carpet": [
           {
            "aaxis": {
             "endlinecolor": "#2a3f5f",
             "gridcolor": "white",
             "linecolor": "white",
             "minorgridcolor": "white",
             "startlinecolor": "#2a3f5f"
            },
            "baxis": {
             "endlinecolor": "#2a3f5f",
             "gridcolor": "white",
             "linecolor": "white",
             "minorgridcolor": "white",
             "startlinecolor": "#2a3f5f"
            },
            "type": "carpet"
           }
          ],
          "choropleth": [
           {
            "colorbar": {
             "outlinewidth": 0,
             "ticks": ""
            },
            "type": "choropleth"
           }
          ],
          "contour": [
           {
            "colorbar": {
             "outlinewidth": 0,
             "ticks": ""
            },
            "colorscale": [
             [
              0,
              "#0d0887"
             ],
             [
              0.1111111111111111,
              "#46039f"
             ],
             [
              0.2222222222222222,
              "#7201a8"
             ],
             [
              0.3333333333333333,
              "#9c179e"
             ],
             [
              0.4444444444444444,
              "#bd3786"
             ],
             [
              0.5555555555555556,
              "#d8576b"
             ],
             [
              0.6666666666666666,
              "#ed7953"
             ],
             [
              0.7777777777777778,
              "#fb9f3a"
             ],
             [
              0.8888888888888888,
              "#fdca26"
             ],
             [
              1,
              "#f0f921"
             ]
            ],
            "type": "contour"
           }
          ],
          "contourcarpet": [
           {
            "colorbar": {
             "outlinewidth": 0,
             "ticks": ""
            },
            "type": "contourcarpet"
           }
          ],
          "heatmap": [
           {
            "colorbar": {
             "outlinewidth": 0,
             "ticks": ""
            },
            "colorscale": [
             [
              0,
              "#0d0887"
             ],
             [
              0.1111111111111111,
              "#46039f"
             ],
             [
              0.2222222222222222,
              "#7201a8"
             ],
             [
              0.3333333333333333,
              "#9c179e"
             ],
             [
              0.4444444444444444,
              "#bd3786"
             ],
             [
              0.5555555555555556,
              "#d8576b"
             ],
             [
              0.6666666666666666,
              "#ed7953"
             ],
             [
              0.7777777777777778,
              "#fb9f3a"
             ],
             [
              0.8888888888888888,
              "#fdca26"
             ],
             [
              1,
              "#f0f921"
             ]
            ],
            "type": "heatmap"
           }
          ],
          "heatmapgl": [
           {
            "colorbar": {
             "outlinewidth": 0,
             "ticks": ""
            },
            "colorscale": [
             [
              0,
              "#0d0887"
             ],
             [
              0.1111111111111111,
              "#46039f"
             ],
             [
              0.2222222222222222,
              "#7201a8"
             ],
             [
              0.3333333333333333,
              "#9c179e"
             ],
             [
              0.4444444444444444,
              "#bd3786"
             ],
             [
              0.5555555555555556,
              "#d8576b"
             ],
             [
              0.6666666666666666,
              "#ed7953"
             ],
             [
              0.7777777777777778,
              "#fb9f3a"
             ],
             [
              0.8888888888888888,
              "#fdca26"
             ],
             [
              1,
              "#f0f921"
             ]
            ],
            "type": "heatmapgl"
           }
          ],
          "histogram": [
           {
            "marker": {
             "pattern": {
              "fillmode": "overlay",
              "size": 10,
              "solidity": 0.2
             }
            },
            "type": "histogram"
           }
          ],
          "histogram2d": [
           {
            "colorbar": {
             "outlinewidth": 0,
             "ticks": ""
            },
            "colorscale": [
             [
              0,
              "#0d0887"
             ],
             [
              0.1111111111111111,
              "#46039f"
             ],
             [
              0.2222222222222222,
              "#7201a8"
             ],
             [
              0.3333333333333333,
              "#9c179e"
             ],
             [
              0.4444444444444444,
              "#bd3786"
             ],
             [
              0.5555555555555556,
              "#d8576b"
             ],
             [
              0.6666666666666666,
              "#ed7953"
             ],
             [
              0.7777777777777778,
              "#fb9f3a"
             ],
             [
              0.8888888888888888,
              "#fdca26"
             ],
             [
              1,
              "#f0f921"
             ]
            ],
            "type": "histogram2d"
           }
          ],
          "histogram2dcontour": [
           {
            "colorbar": {
             "outlinewidth": 0,
             "ticks": ""
            },
            "colorscale": [
             [
              0,
              "#0d0887"
             ],
             [
              0.1111111111111111,
              "#46039f"
             ],
             [
              0.2222222222222222,
              "#7201a8"
             ],
             [
              0.3333333333333333,
              "#9c179e"
             ],
             [
              0.4444444444444444,
              "#bd3786"
             ],
             [
              0.5555555555555556,
              "#d8576b"
             ],
             [
              0.6666666666666666,
              "#ed7953"
             ],
             [
              0.7777777777777778,
              "#fb9f3a"
             ],
             [
              0.8888888888888888,
              "#fdca26"
             ],
             [
              1,
              "#f0f921"
             ]
            ],
            "type": "histogram2dcontour"
           }
          ],
          "mesh3d": [
           {
            "colorbar": {
             "outlinewidth": 0,
             "ticks": ""
            },
            "type": "mesh3d"
           }
          ],
          "parcoords": [
           {
            "line": {
             "colorbar": {
              "outlinewidth": 0,
              "ticks": ""
             }
            },
            "type": "parcoords"
           }
          ],
          "pie": [
           {
            "automargin": true,
            "type": "pie"
           }
          ],
          "scatter": [
           {
            "fillpattern": {
             "fillmode": "overlay",
             "size": 10,
             "solidity": 0.2
            },
            "type": "scatter"
           }
          ],
          "scatter3d": [
           {
            "line": {
             "colorbar": {
              "outlinewidth": 0,
              "ticks": ""
             }
            },
            "marker": {
             "colorbar": {
              "outlinewidth": 0,
              "ticks": ""
             }
            },
            "type": "scatter3d"
           }
          ],
          "scattercarpet": [
           {
            "marker": {
             "colorbar": {
              "outlinewidth": 0,
              "ticks": ""
             }
            },
            "type": "scattercarpet"
           }
          ],
          "scattergeo": [
           {
            "marker": {
             "colorbar": {
              "outlinewidth": 0,
              "ticks": ""
             }
            },
            "type": "scattergeo"
           }
          ],
          "scattergl": [
           {
            "marker": {
             "colorbar": {
              "outlinewidth": 0,
              "ticks": ""
             }
            },
            "type": "scattergl"
           }
          ],
          "scattermapbox": [
           {
            "marker": {
             "colorbar": {
              "outlinewidth": 0,
              "ticks": ""
             }
            },
            "type": "scattermapbox"
           }
          ],
          "scatterpolar": [
           {
            "marker": {
             "colorbar": {
              "outlinewidth": 0,
              "ticks": ""
             }
            },
            "type": "scatterpolar"
           }
          ],
          "scatterpolargl": [
           {
            "marker": {
             "colorbar": {
              "outlinewidth": 0,
              "ticks": ""
             }
            },
            "type": "scatterpolargl"
           }
          ],
          "scatterternary": [
           {
            "marker": {
             "colorbar": {
              "outlinewidth": 0,
              "ticks": ""
             }
            },
            "type": "scatterternary"
           }
          ],
          "surface": [
           {
            "colorbar": {
             "outlinewidth": 0,
             "ticks": ""
            },
            "colorscale": [
             [
              0,
              "#0d0887"
             ],
             [
              0.1111111111111111,
              "#46039f"
             ],
             [
              0.2222222222222222,
              "#7201a8"
             ],
             [
              0.3333333333333333,
              "#9c179e"
             ],
             [
              0.4444444444444444,
              "#bd3786"
             ],
             [
              0.5555555555555556,
              "#d8576b"
             ],
             [
              0.6666666666666666,
              "#ed7953"
             ],
             [
              0.7777777777777778,
              "#fb9f3a"
             ],
             [
              0.8888888888888888,
              "#fdca26"
             ],
             [
              1,
              "#f0f921"
             ]
            ],
            "type": "surface"
           }
          ],
          "table": [
           {
            "cells": {
             "fill": {
              "color": "#EBF0F8"
             },
             "line": {
              "color": "white"
             }
            },
            "header": {
             "fill": {
              "color": "#C8D4E3"
             },
             "line": {
              "color": "white"
             }
            },
            "type": "table"
           }
          ]
         },
         "layout": {
          "annotationdefaults": {
           "arrowcolor": "#2a3f5f",
           "arrowhead": 0,
           "arrowwidth": 1
          },
          "autotypenumbers": "strict",
          "coloraxis": {
           "colorbar": {
            "outlinewidth": 0,
            "ticks": ""
           }
          },
          "colorscale": {
           "diverging": [
            [
             0,
             "#8e0152"
            ],
            [
             0.1,
             "#c51b7d"
            ],
            [
             0.2,
             "#de77ae"
            ],
            [
             0.3,
             "#f1b6da"
            ],
            [
             0.4,
             "#fde0ef"
            ],
            [
             0.5,
             "#f7f7f7"
            ],
            [
             0.6,
             "#e6f5d0"
            ],
            [
             0.7,
             "#b8e186"
            ],
            [
             0.8,
             "#7fbc41"
            ],
            [
             0.9,
             "#4d9221"
            ],
            [
             1,
             "#276419"
            ]
           ],
           "sequential": [
            [
             0,
             "#0d0887"
            ],
            [
             0.1111111111111111,
             "#46039f"
            ],
            [
             0.2222222222222222,
             "#7201a8"
            ],
            [
             0.3333333333333333,
             "#9c179e"
            ],
            [
             0.4444444444444444,
             "#bd3786"
            ],
            [
             0.5555555555555556,
             "#d8576b"
            ],
            [
             0.6666666666666666,
             "#ed7953"
            ],
            [
             0.7777777777777778,
             "#fb9f3a"
            ],
            [
             0.8888888888888888,
             "#fdca26"
            ],
            [
             1,
             "#f0f921"
            ]
           ],
           "sequentialminus": [
            [
             0,
             "#0d0887"
            ],
            [
             0.1111111111111111,
             "#46039f"
            ],
            [
             0.2222222222222222,
             "#7201a8"
            ],
            [
             0.3333333333333333,
             "#9c179e"
            ],
            [
             0.4444444444444444,
             "#bd3786"
            ],
            [
             0.5555555555555556,
             "#d8576b"
            ],
            [
             0.6666666666666666,
             "#ed7953"
            ],
            [
             0.7777777777777778,
             "#fb9f3a"
            ],
            [
             0.8888888888888888,
             "#fdca26"
            ],
            [
             1,
             "#f0f921"
            ]
           ]
          },
          "colorway": [
           "#636efa",
           "#EF553B",
           "#00cc96",
           "#ab63fa",
           "#FFA15A",
           "#19d3f3",
           "#FF6692",
           "#B6E880",
           "#FF97FF",
           "#FECB52"
          ],
          "font": {
           "color": "#2a3f5f"
          },
          "geo": {
           "bgcolor": "white",
           "lakecolor": "white",
           "landcolor": "#E5ECF6",
           "showlakes": true,
           "showland": true,
           "subunitcolor": "white"
          },
          "hoverlabel": {
           "align": "left"
          },
          "hovermode": "closest",
          "mapbox": {
           "style": "light"
          },
          "paper_bgcolor": "white",
          "plot_bgcolor": "#E5ECF6",
          "polar": {
           "angularaxis": {
            "gridcolor": "white",
            "linecolor": "white",
            "ticks": ""
           },
           "bgcolor": "#E5ECF6",
           "radialaxis": {
            "gridcolor": "white",
            "linecolor": "white",
            "ticks": ""
           }
          },
          "scene": {
           "xaxis": {
            "backgroundcolor": "#E5ECF6",
            "gridcolor": "white",
            "gridwidth": 2,
            "linecolor": "white",
            "showbackground": true,
            "ticks": "",
            "zerolinecolor": "white"
           },
           "yaxis": {
            "backgroundcolor": "#E5ECF6",
            "gridcolor": "white",
            "gridwidth": 2,
            "linecolor": "white",
            "showbackground": true,
            "ticks": "",
            "zerolinecolor": "white"
           },
           "zaxis": {
            "backgroundcolor": "#E5ECF6",
            "gridcolor": "white",
            "gridwidth": 2,
            "linecolor": "white",
            "showbackground": true,
            "ticks": "",
            "zerolinecolor": "white"
           }
          },
          "shapedefaults": {
           "line": {
            "color": "#2a3f5f"
           }
          },
          "ternary": {
           "aaxis": {
            "gridcolor": "white",
            "linecolor": "white",
            "ticks": ""
           },
           "baxis": {
            "gridcolor": "white",
            "linecolor": "white",
            "ticks": ""
           },
           "bgcolor": "#E5ECF6",
           "caxis": {
            "gridcolor": "white",
            "linecolor": "white",
            "ticks": ""
           }
          },
          "title": {
           "x": 0.05
          },
          "xaxis": {
           "automargin": true,
           "gridcolor": "white",
           "linecolor": "white",
           "ticks": "",
           "title": {
            "standoff": 15
           },
           "zerolinecolor": "white",
           "zerolinewidth": 2
          },
          "yaxis": {
           "automargin": true,
           "gridcolor": "white",
           "linecolor": "white",
           "ticks": "",
           "title": {
            "standoff": 15
           },
           "zerolinecolor": "white",
           "zerolinewidth": 2
          }
         }
        },
        "title": {
         "text": "RSI Indicator"
        },
        "xaxis": {
         "anchor": "y",
         "domain": [
          0,
          1
         ],
         "title": {
          "text": "time"
         }
        },
        "yaxis": {
         "anchor": "x",
         "domain": [
          0,
          1
         ],
         "title": {
          "text": "rsi_14"
         }
        }
       }
      }
     },
     "metadata": {},
     "output_type": "display_data"
    }
   ],
   "source": [
    "# setting the RSI PerLou\n",
    "rsi_period = 14\n",
    "# to calculate RSI, we first need to calculate the exponential weighted aveage gain and Loss during the period\n",
    "df['gain'] = (df['close'] - df [ 'open']).apply(lambda x: x if x > 0 else 0)\n",
    "df['loss'] = (df['close'] - df[ 'open']).apply(lambda x: -x if x < 0 else 0)\n",
    "#here we use the same formula to calculate Exponential Moving Average\n",
    "df ['ema_gain'] = df['gain'].ewm (span=rsi_period, min_periods=rsi_period).mean()\n",
    "df ['ema_loss'] = df['loss'].ewm (span=rsi_period, min_periods=rsi_period).mean()\n",
    "# the Relative Strength is the ratio between the exponential avg gain divided by the exponential avg Loss\n",
    "df['rs'] = df['ema_gain'] / df['ema_loss']\n",
    "# the RSI is calculated based on the Relative Strength using the following formula\n",
    "df['rsi_14'] = 100 - (100 / (df['rs'] + 1))\n",
    "#displaying the results\n",
    "display (df[['time', 'rsi_14', 'rs', 'ema_gain', 'ema_loss']])\n",
    "#plotting the RSI\n",
    "fig_rsi= px.line(df, x='time', y='rsi_14', title='RSI Indicator')\n",
    "\n",
    "#RSI commonly uses oversold and overbought Levels, usually at 70 and 30\n",
    "overbought_level = 70\n",
    "orversold_level = 30 \n",
    "# adding oversold and overbought Levels to the plot\n",
    "fig_rsi.add_hline (y=overbought_level, opacity=0.5)\n",
    "fig_rsi.add_hline (y=orversold_level, opacity=0.5)\n",
    "#showing the RSI Figure\n",
    "display (fig_rsi)"
   ]
  },
  {
   "cell_type": "code",
   "execution_count": 23,
   "metadata": {},
   "outputs": [
    {
     "data": {
      "text/html": [
       "<div>\n",
       "<style scoped>\n",
       "    .dataframe tbody tr th:only-of-type {\n",
       "        vertical-align: middle;\n",
       "    }\n",
       "\n",
       "    .dataframe tbody tr th {\n",
       "        vertical-align: top;\n",
       "    }\n",
       "\n",
       "    .dataframe thead th {\n",
       "        text-align: right;\n",
       "    }\n",
       "</style>\n",
       "<table border=\"1\" class=\"dataframe\">\n",
       "  <thead>\n",
       "    <tr style=\"text-align: right;\">\n",
       "      <th></th>\n",
       "      <th>time</th>\n",
       "      <th>atr_14</th>\n",
       "    </tr>\n",
       "  </thead>\n",
       "  <tbody>\n",
       "    <tr>\n",
       "      <th>0</th>\n",
       "      <td>2023-05-08 12:13:00</td>\n",
       "      <td>NaN</td>\n",
       "    </tr>\n",
       "    <tr>\n",
       "      <th>1</th>\n",
       "      <td>2023-05-08 12:14:00</td>\n",
       "      <td>NaN</td>\n",
       "    </tr>\n",
       "    <tr>\n",
       "      <th>2</th>\n",
       "      <td>2023-05-08 12:15:00</td>\n",
       "      <td>NaN</td>\n",
       "    </tr>\n",
       "    <tr>\n",
       "      <th>3</th>\n",
       "      <td>2023-05-08 12:16:00</td>\n",
       "      <td>NaN</td>\n",
       "    </tr>\n",
       "    <tr>\n",
       "      <th>4</th>\n",
       "      <td>2023-05-08 12:17:00</td>\n",
       "      <td>NaN</td>\n",
       "    </tr>\n",
       "    <tr>\n",
       "      <th>...</th>\n",
       "      <td>...</td>\n",
       "      <td>...</td>\n",
       "    </tr>\n",
       "    <tr>\n",
       "      <th>195</th>\n",
       "      <td>2023-05-08 15:28:00</td>\n",
       "      <td>0.000194</td>\n",
       "    </tr>\n",
       "    <tr>\n",
       "      <th>196</th>\n",
       "      <td>2023-05-08 15:29:00</td>\n",
       "      <td>0.000187</td>\n",
       "    </tr>\n",
       "    <tr>\n",
       "      <th>197</th>\n",
       "      <td>2023-05-08 15:30:00</td>\n",
       "      <td>0.000186</td>\n",
       "    </tr>\n",
       "    <tr>\n",
       "      <th>198</th>\n",
       "      <td>2023-05-08 15:31:00</td>\n",
       "      <td>0.000186</td>\n",
       "    </tr>\n",
       "    <tr>\n",
       "      <th>199</th>\n",
       "      <td>2023-05-08 15:32:00</td>\n",
       "      <td>0.000190</td>\n",
       "    </tr>\n",
       "  </tbody>\n",
       "</table>\n",
       "<p>200 rows × 2 columns</p>\n",
       "</div>"
      ],
      "text/plain": [
       "                   time    atr_14\n",
       "0   2023-05-08 12:13:00       NaN\n",
       "1   2023-05-08 12:14:00       NaN\n",
       "2   2023-05-08 12:15:00       NaN\n",
       "3   2023-05-08 12:16:00       NaN\n",
       "4   2023-05-08 12:17:00       NaN\n",
       "..                  ...       ...\n",
       "195 2023-05-08 15:28:00  0.000194\n",
       "196 2023-05-08 15:29:00  0.000187\n",
       "197 2023-05-08 15:30:00  0.000186\n",
       "198 2023-05-08 15:31:00  0.000186\n",
       "199 2023-05-08 15:32:00  0.000190\n",
       "\n",
       "[200 rows x 2 columns]"
      ]
     },
     "metadata": {},
     "output_type": "display_data"
    },
    {
     "data": {
      "application/vnd.plotly.v1+json": {
       "config": {
        "plotlyServerURL": "https://plot.ly"
       },
       "data": [
        {
         "hovertemplate": "time=%{x}<br>atr_14=%{y}<extra></extra>",
         "legendgroup": "",
         "line": {
          "color": "#636efa",
          "dash": "solid"
         },
         "marker": {
          "symbol": "circle"
         },
         "mode": "lines",
         "name": "",
         "orientation": "v",
         "showlegend": false,
         "type": "scatter",
         "x": [
          "2023-05-08T12:13:00",
          "2023-05-08T12:14:00",
          "2023-05-08T12:15:00",
          "2023-05-08T12:16:00",
          "2023-05-08T12:17:00",
          "2023-05-08T12:18:00",
          "2023-05-08T12:19:00",
          "2023-05-08T12:20:00",
          "2023-05-08T12:21:00",
          "2023-05-08T12:22:00",
          "2023-05-08T12:23:00",
          "2023-05-08T12:24:00",
          "2023-05-08T12:25:00",
          "2023-05-08T12:26:00",
          "2023-05-08T12:27:00",
          "2023-05-08T12:28:00",
          "2023-05-08T12:29:00",
          "2023-05-08T12:30:00",
          "2023-05-08T12:31:00",
          "2023-05-08T12:32:00",
          "2023-05-08T12:33:00",
          "2023-05-08T12:34:00",
          "2023-05-08T12:35:00",
          "2023-05-08T12:36:00",
          "2023-05-08T12:37:00",
          "2023-05-08T12:38:00",
          "2023-05-08T12:39:00",
          "2023-05-08T12:40:00",
          "2023-05-08T12:41:00",
          "2023-05-08T12:42:00",
          "2023-05-08T12:43:00",
          "2023-05-08T12:44:00",
          "2023-05-08T12:45:00",
          "2023-05-08T12:46:00",
          "2023-05-08T12:47:00",
          "2023-05-08T12:48:00",
          "2023-05-08T12:49:00",
          "2023-05-08T12:50:00",
          "2023-05-08T12:51:00",
          "2023-05-08T12:52:00",
          "2023-05-08T12:53:00",
          "2023-05-08T12:54:00",
          "2023-05-08T12:55:00",
          "2023-05-08T12:56:00",
          "2023-05-08T12:57:00",
          "2023-05-08T12:58:00",
          "2023-05-08T12:59:00",
          "2023-05-08T13:00:00",
          "2023-05-08T13:01:00",
          "2023-05-08T13:02:00",
          "2023-05-08T13:03:00",
          "2023-05-08T13:04:00",
          "2023-05-08T13:05:00",
          "2023-05-08T13:06:00",
          "2023-05-08T13:07:00",
          "2023-05-08T13:08:00",
          "2023-05-08T13:09:00",
          "2023-05-08T13:10:00",
          "2023-05-08T13:11:00",
          "2023-05-08T13:12:00",
          "2023-05-08T13:13:00",
          "2023-05-08T13:14:00",
          "2023-05-08T13:15:00",
          "2023-05-08T13:16:00",
          "2023-05-08T13:17:00",
          "2023-05-08T13:18:00",
          "2023-05-08T13:19:00",
          "2023-05-08T13:20:00",
          "2023-05-08T13:21:00",
          "2023-05-08T13:22:00",
          "2023-05-08T13:23:00",
          "2023-05-08T13:24:00",
          "2023-05-08T13:25:00",
          "2023-05-08T13:26:00",
          "2023-05-08T13:27:00",
          "2023-05-08T13:28:00",
          "2023-05-08T13:29:00",
          "2023-05-08T13:30:00",
          "2023-05-08T13:31:00",
          "2023-05-08T13:32:00",
          "2023-05-08T13:33:00",
          "2023-05-08T13:34:00",
          "2023-05-08T13:35:00",
          "2023-05-08T13:36:00",
          "2023-05-08T13:37:00",
          "2023-05-08T13:38:00",
          "2023-05-08T13:39:00",
          "2023-05-08T13:40:00",
          "2023-05-08T13:41:00",
          "2023-05-08T13:42:00",
          "2023-05-08T13:43:00",
          "2023-05-08T13:44:00",
          "2023-05-08T13:45:00",
          "2023-05-08T13:46:00",
          "2023-05-08T13:47:00",
          "2023-05-08T13:48:00",
          "2023-05-08T13:49:00",
          "2023-05-08T13:50:00",
          "2023-05-08T13:51:00",
          "2023-05-08T13:52:00",
          "2023-05-08T13:53:00",
          "2023-05-08T13:54:00",
          "2023-05-08T13:55:00",
          "2023-05-08T13:56:00",
          "2023-05-08T13:57:00",
          "2023-05-08T13:58:00",
          "2023-05-08T13:59:00",
          "2023-05-08T14:00:00",
          "2023-05-08T14:01:00",
          "2023-05-08T14:02:00",
          "2023-05-08T14:03:00",
          "2023-05-08T14:04:00",
          "2023-05-08T14:05:00",
          "2023-05-08T14:06:00",
          "2023-05-08T14:07:00",
          "2023-05-08T14:08:00",
          "2023-05-08T14:09:00",
          "2023-05-08T14:10:00",
          "2023-05-08T14:11:00",
          "2023-05-08T14:12:00",
          "2023-05-08T14:13:00",
          "2023-05-08T14:14:00",
          "2023-05-08T14:15:00",
          "2023-05-08T14:16:00",
          "2023-05-08T14:17:00",
          "2023-05-08T14:18:00",
          "2023-05-08T14:19:00",
          "2023-05-08T14:20:00",
          "2023-05-08T14:21:00",
          "2023-05-08T14:22:00",
          "2023-05-08T14:23:00",
          "2023-05-08T14:24:00",
          "2023-05-08T14:25:00",
          "2023-05-08T14:26:00",
          "2023-05-08T14:27:00",
          "2023-05-08T14:28:00",
          "2023-05-08T14:29:00",
          "2023-05-08T14:30:00",
          "2023-05-08T14:31:00",
          "2023-05-08T14:32:00",
          "2023-05-08T14:33:00",
          "2023-05-08T14:34:00",
          "2023-05-08T14:35:00",
          "2023-05-08T14:36:00",
          "2023-05-08T14:37:00",
          "2023-05-08T14:38:00",
          "2023-05-08T14:39:00",
          "2023-05-08T14:40:00",
          "2023-05-08T14:41:00",
          "2023-05-08T14:42:00",
          "2023-05-08T14:43:00",
          "2023-05-08T14:44:00",
          "2023-05-08T14:45:00",
          "2023-05-08T14:46:00",
          "2023-05-08T14:47:00",
          "2023-05-08T14:48:00",
          "2023-05-08T14:49:00",
          "2023-05-08T14:50:00",
          "2023-05-08T14:51:00",
          "2023-05-08T14:52:00",
          "2023-05-08T14:53:00",
          "2023-05-08T14:54:00",
          "2023-05-08T14:55:00",
          "2023-05-08T14:56:00",
          "2023-05-08T14:57:00",
          "2023-05-08T14:58:00",
          "2023-05-08T14:59:00",
          "2023-05-08T15:00:00",
          "2023-05-08T15:01:00",
          "2023-05-08T15:02:00",
          "2023-05-08T15:03:00",
          "2023-05-08T15:04:00",
          "2023-05-08T15:05:00",
          "2023-05-08T15:06:00",
          "2023-05-08T15:07:00",
          "2023-05-08T15:08:00",
          "2023-05-08T15:09:00",
          "2023-05-08T15:10:00",
          "2023-05-08T15:11:00",
          "2023-05-08T15:12:00",
          "2023-05-08T15:13:00",
          "2023-05-08T15:14:00",
          "2023-05-08T15:15:00",
          "2023-05-08T15:16:00",
          "2023-05-08T15:17:00",
          "2023-05-08T15:18:00",
          "2023-05-08T15:19:00",
          "2023-05-08T15:20:00",
          "2023-05-08T15:21:00",
          "2023-05-08T15:22:00",
          "2023-05-08T15:23:00",
          "2023-05-08T15:24:00",
          "2023-05-08T15:25:00",
          "2023-05-08T15:26:00",
          "2023-05-08T15:27:00",
          "2023-05-08T15:28:00",
          "2023-05-08T15:29:00",
          "2023-05-08T15:30:00",
          "2023-05-08T15:31:00",
          "2023-05-08T15:32:00"
         ],
         "xaxis": "x",
         "y": [
          null,
          null,
          null,
          null,
          null,
          null,
          null,
          null,
          null,
          null,
          null,
          null,
          null,
          0.00022499999999995142,
          0.0002064285714285122,
          0.00019857142857136547,
          0.000196428571428526,
          0.0001842857142856686,
          0.00019071428571425044,
          0.00019642857142854186,
          0.00020071428571426836,
          0.0002021428571428333,
          0.0002064285714285598,
          0.00020857142857141512,
          0.00018928571428570136,
          0.00019142857142855668,
          0.00018428571428570035,
          0.00017428571428571412,
          0.00017071428571429386,
          0.00017285714285716506,
          0.00016642857142858323,
          0.00015571428571429076,
          0.0001535714285714196,
          0.0001492857142856931,
          0.00014285714285712712,
          0.0001335714285714313,
          0.0001271428571428495,
          0.00012071428571428353,
          0.00012428571428571962,
          0.00012642857142857494,
          0.00012571428571428456,
          0.00012357142857141338,
          0.00011857142857141234,
          0.00011571428571425077,
          0.00011999999999997726,
          0.00012285714285712297,
          0.00012142857142857391,
          0.0001321428571428664,
          0.00013571428571428662,
          0.00013785714285712608,
          0.00013928571428570687,
          0.00014357142857141753,
          0.00015142857142856427,
          0.00014785714285712816,
          0.0001421428571428526,
          0.00014785714285714402,
          0.00015142857142856427,
          0.00016285714285714712,
          0.00015785714285714608,
          0.00015785714285714608,
          0.0001535714285714196,
          0.0001457142857142887,
          0.0001442857142857079,
          0.0001471428571428695,
          0.00014142857142857807,
          0.00014071428571430352,
          0.00013071428571430146,
          0.00013642857142859288,
          0.00014500000000001418,
          0.00014142857142857807,
          0.00014642857142859494,
          0.0001335714285714313,
          0.0001371428571428674,
          0.00013071428571430146,
          0.00012857142857144614,
          0.00012785714285715573,
          0.00012785714285715573,
          0.0001271428571428495,
          0.00013571428571427076,
          0.00014357142857140165,
          0.000145714285714257,
          0.0001471428571428219,
          0.00014214285714283674,
          0.00014142857142856218,
          0.00013999999999998142,
          0.00014285714285714298,
          0.00013999999999998142,
          0.0001407142857142718,
          0.00014357142857141753,
          0.000139285714285691,
          0.000139285714285691,
          0.0001364285714285453,
          0.0001364285714285453,
          0.0001214285714285422,
          0.00011642857142854115,
          0.00011071428571426558,
          0.00011214285714283052,
          0.00011357142857139544,
          0.00010999999999995933,
          0.00011142857142852427,
          0.00010928571428568481,
          0.00011071428571424973,
          0.0001057142857142487,
          0.00010714285714281362,
          0.00011499999999996038,
          0.00011785714285710609,
          0.00011642857142854115,
          0.00012357142857139753,
          0.00012499999999996243,
          0.00012499999999996243,
          0.00012785714285710816,
          0.0001249999999999783,
          0.0001271428571428495,
          0.00012142857142855805,
          0.0001242857142856879,
          0.00012999999999997933,
          0.00013857142857140063,
          0.000139285714285691,
          0.0001257142857142687,
          0.00012071428571426766,
          0.00011428571428568584,
          0.00011071428571426558,
          0.00011714285714284742,
          0.00011714285714284742,
          0.00011714285714283155,
          0.00012499999999996243,
          0.00012357142857139753,
          0.0001221428571428326,
          0.00011785714285712194,
          0.00010928571428570066,
          0.00010714285714284535,
          0.00010642857142855495,
          0.00011142857142855598,
          0.00011357142857142717,
          0.00011357142857144302,
          0.00011285714285715263,
          0.00010285714285715056,
          0.00010500000000000589,
          0.00010071428571429524,
          0.00009428571428572927,
          0.00010428571428571549,
          0.00011357142857144302,
          0.00011928571428573445,
          0.0001350000000000121,
          0.00014000000000001313,
          0.00015285714285716092,
          0.0001542857142857417,
          0.0001535714285714513,
          0.00015642857142859703,
          0.00015785714285717782,
          0.00016357142857146924,
          0.0001721428571429064,
          0.0001785714285714882,
          0.00020571428571433285,
          0.000191428571428636,
          0.00019357142857147545,
          0.00019142857142860427,
          0.00018000000000002142,
          0.00017785714285716608,
          0.0001814285714286022,
          0.0001807142857143118,
          0.00018642857142860323,
          0.00020071428571431595,
          0.00020500000000004244,
          0.00020357142857146165,
          0.0002007142857143001,
          0.000197142857142864,
          0.00017214285714287466,
          0.00018285714285715127,
          0.00018214285714287674,
          0.00018285714285716712,
          0.0001814285714286022,
          0.00017285714285716506,
          0.00015785714285716196,
          0.00015928571428572687,
          0.0001614285714285822,
          0.00015142857142858013,
          0.00015285714285714506,
          0.00015571428571429076,
          0.00014857142857145029,
          0.00016285714285716298,
          0.0001771428571428757,
          0.0001771428571428757,
          0.00017642857142858532,
          0.0001785714285714565,
          0.0001821428571428926,
          0.00019714285714291156,
          0.00021214285714291466,
          0.0002185714285714965,
          0.00021928571428577102,
          0.00021928571428577102,
          0.0002207142857143201,
          0.00021500000000002867,
          0.000217142857142884,
          0.00020642857142859152,
          0.00019428571428573412,
          0.00018714285714287776,
          0.00018571428571431285,
          0.00018642857142858738,
          0.00019000000000000763
         ],
         "yaxis": "y"
        }
       ],
       "layout": {
        "legend": {
         "tracegroupgap": 0
        },
        "template": {
         "data": {
          "bar": [
           {
            "error_x": {
             "color": "#2a3f5f"
            },
            "error_y": {
             "color": "#2a3f5f"
            },
            "marker": {
             "line": {
              "color": "#E5ECF6",
              "width": 0.5
             },
             "pattern": {
              "fillmode": "overlay",
              "size": 10,
              "solidity": 0.2
             }
            },
            "type": "bar"
           }
          ],
          "barpolar": [
           {
            "marker": {
             "line": {
              "color": "#E5ECF6",
              "width": 0.5
             },
             "pattern": {
              "fillmode": "overlay",
              "size": 10,
              "solidity": 0.2
             }
            },
            "type": "barpolar"
           }
          ],
          "carpet": [
           {
            "aaxis": {
             "endlinecolor": "#2a3f5f",
             "gridcolor": "white",
             "linecolor": "white",
             "minorgridcolor": "white",
             "startlinecolor": "#2a3f5f"
            },
            "baxis": {
             "endlinecolor": "#2a3f5f",
             "gridcolor": "white",
             "linecolor": "white",
             "minorgridcolor": "white",
             "startlinecolor": "#2a3f5f"
            },
            "type": "carpet"
           }
          ],
          "choropleth": [
           {
            "colorbar": {
             "outlinewidth": 0,
             "ticks": ""
            },
            "type": "choropleth"
           }
          ],
          "contour": [
           {
            "colorbar": {
             "outlinewidth": 0,
             "ticks": ""
            },
            "colorscale": [
             [
              0,
              "#0d0887"
             ],
             [
              0.1111111111111111,
              "#46039f"
             ],
             [
              0.2222222222222222,
              "#7201a8"
             ],
             [
              0.3333333333333333,
              "#9c179e"
             ],
             [
              0.4444444444444444,
              "#bd3786"
             ],
             [
              0.5555555555555556,
              "#d8576b"
             ],
             [
              0.6666666666666666,
              "#ed7953"
             ],
             [
              0.7777777777777778,
              "#fb9f3a"
             ],
             [
              0.8888888888888888,
              "#fdca26"
             ],
             [
              1,
              "#f0f921"
             ]
            ],
            "type": "contour"
           }
          ],
          "contourcarpet": [
           {
            "colorbar": {
             "outlinewidth": 0,
             "ticks": ""
            },
            "type": "contourcarpet"
           }
          ],
          "heatmap": [
           {
            "colorbar": {
             "outlinewidth": 0,
             "ticks": ""
            },
            "colorscale": [
             [
              0,
              "#0d0887"
             ],
             [
              0.1111111111111111,
              "#46039f"
             ],
             [
              0.2222222222222222,
              "#7201a8"
             ],
             [
              0.3333333333333333,
              "#9c179e"
             ],
             [
              0.4444444444444444,
              "#bd3786"
             ],
             [
              0.5555555555555556,
              "#d8576b"
             ],
             [
              0.6666666666666666,
              "#ed7953"
             ],
             [
              0.7777777777777778,
              "#fb9f3a"
             ],
             [
              0.8888888888888888,
              "#fdca26"
             ],
             [
              1,
              "#f0f921"
             ]
            ],
            "type": "heatmap"
           }
          ],
          "heatmapgl": [
           {
            "colorbar": {
             "outlinewidth": 0,
             "ticks": ""
            },
            "colorscale": [
             [
              0,
              "#0d0887"
             ],
             [
              0.1111111111111111,
              "#46039f"
             ],
             [
              0.2222222222222222,
              "#7201a8"
             ],
             [
              0.3333333333333333,
              "#9c179e"
             ],
             [
              0.4444444444444444,
              "#bd3786"
             ],
             [
              0.5555555555555556,
              "#d8576b"
             ],
             [
              0.6666666666666666,
              "#ed7953"
             ],
             [
              0.7777777777777778,
              "#fb9f3a"
             ],
             [
              0.8888888888888888,
              "#fdca26"
             ],
             [
              1,
              "#f0f921"
             ]
            ],
            "type": "heatmapgl"
           }
          ],
          "histogram": [
           {
            "marker": {
             "pattern": {
              "fillmode": "overlay",
              "size": 10,
              "solidity": 0.2
             }
            },
            "type": "histogram"
           }
          ],
          "histogram2d": [
           {
            "colorbar": {
             "outlinewidth": 0,
             "ticks": ""
            },
            "colorscale": [
             [
              0,
              "#0d0887"
             ],
             [
              0.1111111111111111,
              "#46039f"
             ],
             [
              0.2222222222222222,
              "#7201a8"
             ],
             [
              0.3333333333333333,
              "#9c179e"
             ],
             [
              0.4444444444444444,
              "#bd3786"
             ],
             [
              0.5555555555555556,
              "#d8576b"
             ],
             [
              0.6666666666666666,
              "#ed7953"
             ],
             [
              0.7777777777777778,
              "#fb9f3a"
             ],
             [
              0.8888888888888888,
              "#fdca26"
             ],
             [
              1,
              "#f0f921"
             ]
            ],
            "type": "histogram2d"
           }
          ],
          "histogram2dcontour": [
           {
            "colorbar": {
             "outlinewidth": 0,
             "ticks": ""
            },
            "colorscale": [
             [
              0,
              "#0d0887"
             ],
             [
              0.1111111111111111,
              "#46039f"
             ],
             [
              0.2222222222222222,
              "#7201a8"
             ],
             [
              0.3333333333333333,
              "#9c179e"
             ],
             [
              0.4444444444444444,
              "#bd3786"
             ],
             [
              0.5555555555555556,
              "#d8576b"
             ],
             [
              0.6666666666666666,
              "#ed7953"
             ],
             [
              0.7777777777777778,
              "#fb9f3a"
             ],
             [
              0.8888888888888888,
              "#fdca26"
             ],
             [
              1,
              "#f0f921"
             ]
            ],
            "type": "histogram2dcontour"
           }
          ],
          "mesh3d": [
           {
            "colorbar": {
             "outlinewidth": 0,
             "ticks": ""
            },
            "type": "mesh3d"
           }
          ],
          "parcoords": [
           {
            "line": {
             "colorbar": {
              "outlinewidth": 0,
              "ticks": ""
             }
            },
            "type": "parcoords"
           }
          ],
          "pie": [
           {
            "automargin": true,
            "type": "pie"
           }
          ],
          "scatter": [
           {
            "fillpattern": {
             "fillmode": "overlay",
             "size": 10,
             "solidity": 0.2
            },
            "type": "scatter"
           }
          ],
          "scatter3d": [
           {
            "line": {
             "colorbar": {
              "outlinewidth": 0,
              "ticks": ""
             }
            },
            "marker": {
             "colorbar": {
              "outlinewidth": 0,
              "ticks": ""
             }
            },
            "type": "scatter3d"
           }
          ],
          "scattercarpet": [
           {
            "marker": {
             "colorbar": {
              "outlinewidth": 0,
              "ticks": ""
             }
            },
            "type": "scattercarpet"
           }
          ],
          "scattergeo": [
           {
            "marker": {
             "colorbar": {
              "outlinewidth": 0,
              "ticks": ""
             }
            },
            "type": "scattergeo"
           }
          ],
          "scattergl": [
           {
            "marker": {
             "colorbar": {
              "outlinewidth": 0,
              "ticks": ""
             }
            },
            "type": "scattergl"
           }
          ],
          "scattermapbox": [
           {
            "marker": {
             "colorbar": {
              "outlinewidth": 0,
              "ticks": ""
             }
            },
            "type": "scattermapbox"
           }
          ],
          "scatterpolar": [
           {
            "marker": {
             "colorbar": {
              "outlinewidth": 0,
              "ticks": ""
             }
            },
            "type": "scatterpolar"
           }
          ],
          "scatterpolargl": [
           {
            "marker": {
             "colorbar": {
              "outlinewidth": 0,
              "ticks": ""
             }
            },
            "type": "scatterpolargl"
           }
          ],
          "scatterternary": [
           {
            "marker": {
             "colorbar": {
              "outlinewidth": 0,
              "ticks": ""
             }
            },
            "type": "scatterternary"
           }
          ],
          "surface": [
           {
            "colorbar": {
             "outlinewidth": 0,
             "ticks": ""
            },
            "colorscale": [
             [
              0,
              "#0d0887"
             ],
             [
              0.1111111111111111,
              "#46039f"
             ],
             [
              0.2222222222222222,
              "#7201a8"
             ],
             [
              0.3333333333333333,
              "#9c179e"
             ],
             [
              0.4444444444444444,
              "#bd3786"
             ],
             [
              0.5555555555555556,
              "#d8576b"
             ],
             [
              0.6666666666666666,
              "#ed7953"
             ],
             [
              0.7777777777777778,
              "#fb9f3a"
             ],
             [
              0.8888888888888888,
              "#fdca26"
             ],
             [
              1,
              "#f0f921"
             ]
            ],
            "type": "surface"
           }
          ],
          "table": [
           {
            "cells": {
             "fill": {
              "color": "#EBF0F8"
             },
             "line": {
              "color": "white"
             }
            },
            "header": {
             "fill": {
              "color": "#C8D4E3"
             },
             "line": {
              "color": "white"
             }
            },
            "type": "table"
           }
          ]
         },
         "layout": {
          "annotationdefaults": {
           "arrowcolor": "#2a3f5f",
           "arrowhead": 0,
           "arrowwidth": 1
          },
          "autotypenumbers": "strict",
          "coloraxis": {
           "colorbar": {
            "outlinewidth": 0,
            "ticks": ""
           }
          },
          "colorscale": {
           "diverging": [
            [
             0,
             "#8e0152"
            ],
            [
             0.1,
             "#c51b7d"
            ],
            [
             0.2,
             "#de77ae"
            ],
            [
             0.3,
             "#f1b6da"
            ],
            [
             0.4,
             "#fde0ef"
            ],
            [
             0.5,
             "#f7f7f7"
            ],
            [
             0.6,
             "#e6f5d0"
            ],
            [
             0.7,
             "#b8e186"
            ],
            [
             0.8,
             "#7fbc41"
            ],
            [
             0.9,
             "#4d9221"
            ],
            [
             1,
             "#276419"
            ]
           ],
           "sequential": [
            [
             0,
             "#0d0887"
            ],
            [
             0.1111111111111111,
             "#46039f"
            ],
            [
             0.2222222222222222,
             "#7201a8"
            ],
            [
             0.3333333333333333,
             "#9c179e"
            ],
            [
             0.4444444444444444,
             "#bd3786"
            ],
            [
             0.5555555555555556,
             "#d8576b"
            ],
            [
             0.6666666666666666,
             "#ed7953"
            ],
            [
             0.7777777777777778,
             "#fb9f3a"
            ],
            [
             0.8888888888888888,
             "#fdca26"
            ],
            [
             1,
             "#f0f921"
            ]
           ],
           "sequentialminus": [
            [
             0,
             "#0d0887"
            ],
            [
             0.1111111111111111,
             "#46039f"
            ],
            [
             0.2222222222222222,
             "#7201a8"
            ],
            [
             0.3333333333333333,
             "#9c179e"
            ],
            [
             0.4444444444444444,
             "#bd3786"
            ],
            [
             0.5555555555555556,
             "#d8576b"
            ],
            [
             0.6666666666666666,
             "#ed7953"
            ],
            [
             0.7777777777777778,
             "#fb9f3a"
            ],
            [
             0.8888888888888888,
             "#fdca26"
            ],
            [
             1,
             "#f0f921"
            ]
           ]
          },
          "colorway": [
           "#636efa",
           "#EF553B",
           "#00cc96",
           "#ab63fa",
           "#FFA15A",
           "#19d3f3",
           "#FF6692",
           "#B6E880",
           "#FF97FF",
           "#FECB52"
          ],
          "font": {
           "color": "#2a3f5f"
          },
          "geo": {
           "bgcolor": "white",
           "lakecolor": "white",
           "landcolor": "#E5ECF6",
           "showlakes": true,
           "showland": true,
           "subunitcolor": "white"
          },
          "hoverlabel": {
           "align": "left"
          },
          "hovermode": "closest",
          "mapbox": {
           "style": "light"
          },
          "paper_bgcolor": "white",
          "plot_bgcolor": "#E5ECF6",
          "polar": {
           "angularaxis": {
            "gridcolor": "white",
            "linecolor": "white",
            "ticks": ""
           },
           "bgcolor": "#E5ECF6",
           "radialaxis": {
            "gridcolor": "white",
            "linecolor": "white",
            "ticks": ""
           }
          },
          "scene": {
           "xaxis": {
            "backgroundcolor": "#E5ECF6",
            "gridcolor": "white",
            "gridwidth": 2,
            "linecolor": "white",
            "showbackground": true,
            "ticks": "",
            "zerolinecolor": "white"
           },
           "yaxis": {
            "backgroundcolor": "#E5ECF6",
            "gridcolor": "white",
            "gridwidth": 2,
            "linecolor": "white",
            "showbackground": true,
            "ticks": "",
            "zerolinecolor": "white"
           },
           "zaxis": {
            "backgroundcolor": "#E5ECF6",
            "gridcolor": "white",
            "gridwidth": 2,
            "linecolor": "white",
            "showbackground": true,
            "ticks": "",
            "zerolinecolor": "white"
           }
          },
          "shapedefaults": {
           "line": {
            "color": "#2a3f5f"
           }
          },
          "ternary": {
           "aaxis": {
            "gridcolor": "white",
            "linecolor": "white",
            "ticks": ""
           },
           "baxis": {
            "gridcolor": "white",
            "linecolor": "white",
            "ticks": ""
           },
           "bgcolor": "#E5ECF6",
           "caxis": {
            "gridcolor": "white",
            "linecolor": "white",
            "ticks": ""
           }
          },
          "title": {
           "x": 0.05
          },
          "xaxis": {
           "automargin": true,
           "gridcolor": "white",
           "linecolor": "white",
           "ticks": "",
           "title": {
            "standoff": 15
           },
           "zerolinecolor": "white",
           "zerolinewidth": 2
          },
          "yaxis": {
           "automargin": true,
           "gridcolor": "white",
           "linecolor": "white",
           "ticks": "",
           "title": {
            "standoff": 15
           },
           "zerolinecolor": "white",
           "zerolinewidth": 2
          }
         }
        },
        "title": {
         "text": "ATR Indicator"
        },
        "xaxis": {
         "anchor": "y",
         "domain": [
          0,
          1
         ],
         "title": {
          "text": "time"
         }
        },
        "yaxis": {
         "anchor": "x",
         "domain": [
          0,
          1
         ],
         "title": {
          "text": "atr_14"
         }
        }
       }
      }
     },
     "metadata": {},
     "output_type": "display_data"
    }
   ],
   "source": [
    "#Calculating ATR Indicator\n",
    "atr_period = 14 # defining the atr period to 14\n",
    "#calculating the range of each candle\n",
    "df['range'] = df['high'] - df [ 'low']\n",
    "# calculating the average value of ranges\n",
    "df ['atr_14'] = df['range'].rolling (atr_period).mean()\n",
    "display (df[['time', 'atr_14']])\n",
    "#plotting the ATR Indicator\n",
    "fig_atr= px.line(df, x= 'time', y='atr_14', title='ATR Indicator')\n",
    "display (fig_atr)"
   ]
  },
  {
   "cell_type": "code",
   "execution_count": null,
   "metadata": {},
   "outputs": [],
   "source": [
    "import time\n",
    "def ayush():\n",
    "    bars = mt5.copy_rates_from_pos(symbol,timeframe,start_pos,num_bars)\n",
    "    df = pd.DataFrame(bars)[['time','open','high','low','close']]\n",
    "    df['time'] = pd.to_datetime(df['time'],unit='s')\n",
    "\n",
    "    # setting the RSI PerLou\n",
    "    rsi_period = 14\n",
    "    # to calculate RSI, we first need to calculate the exponential weighted aveage gain and Loss during the period\n",
    "    df['gain'] = (df['close'] - df [ 'open']).apply(lambda x: x if x > 0 else 0)\n",
    "    df['loss'] = (df['close'] - df[ 'open']).apply(lambda x: -x if x < 0 else 0)\n",
    "    #here we use the same formula to calculate Exponential Moving Average\n",
    "    ema_gain = df['gain'].ewm (span=rsi_period, min_periods=rsi_period).mean()\n",
    "    ema_loss = df['loss'].ewm (span=rsi_period, min_periods=rsi_period).mean()\n",
    "    # the Relative Strength is the ratio between the exponential avg gain divided by the exponential avg Loss\n",
    "    rs = ema_gain / ema_loss\n",
    "    # the RSI is calculated based on the Relative Strength using the following formula\n",
    "    rsi_14 = 100 - (100 / (rs + 1))\n",
    "    #displaying the results\n",
    "    print(rsi_14)\n",
    "\n",
    "\n",
    "while 1 :\n",
    "    ayush()"
   ]
  },
  {
   "cell_type": "code",
   "execution_count": null,
   "metadata": {},
   "outputs": [],
   "source": []
  }
 ],
 "metadata": {
  "kernelspec": {
   "display_name": "base",
   "language": "python",
   "name": "python3"
  },
  "language_info": {
   "codemirror_mode": {
    "name": "ipython",
    "version": 3
   },
   "file_extension": ".py",
   "mimetype": "text/x-python",
   "name": "python",
   "nbconvert_exporter": "python",
   "pygments_lexer": "ipython3",
   "version": "3.10.9"
  },
  "orig_nbformat": 4
 },
 "nbformat": 4,
 "nbformat_minor": 2
}
